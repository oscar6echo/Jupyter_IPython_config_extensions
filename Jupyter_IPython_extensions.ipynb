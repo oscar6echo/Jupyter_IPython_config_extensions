{
 "cells": [
  {
   "cell_type": "markdown",
   "metadata": {},
   "source": [
    "# Jupyter / IPython configuration\n",
    "\n",
    "This is a combo of various commands and paths and recipes for (my) reference.  \n",
    "It is a work in progress and certainly not exhaustive.  \n",
    "\n",
    "Links:\n",
    "+ Official documentation: \n",
    "[Extending the notebook](https://jupyter-notebook.readthedocs.io/en/latest/extending/index.html), \n",
    "[Distributing Jupyter Extensions as Python Packages](https://jupyter-notebook.readthedocs.io/en/latest/examples/Notebook/Distributing%20Jupyter%20Extensions%20as%20Python%20Packages.html)\n",
    "+ [4 ways to extend the notebook](http://mindtrove.info/4-ways-to-extend-jupyter-notebook/)\n",
    "\n",
    "\n",
    "### Table of Contents\n",
    "1. Jupyter config\n",
    "    + version\n",
    "    + config directory and files\n",
    "2. **IPython extensions** \n",
    "    + How to make / install / enable\n",
    "3. **Jupyter notebok extensions**\n",
    "    + How to download / make / install / enable\n",
    "4. **Jupyter notebook server extensions**\n",
    "    + How to make / install / enable\n"
   ]
  },
  {
   "cell_type": "code",
   "execution_count": 1,
   "metadata": {
    "code_folding": [],
    "ezpublish": {
     "type": "show"
    },
    "hide_input": false,
    "run_control": {
     "marked": false
    },
    "scrolled": true
   },
   "outputs": [
    {
     "data": {
      "application/json": {
       "Software versions": [
        {
         "module": "Python",
         "version": "3.6.0 64bit [GCC 4.2.1 Compatible Apple LLVM 6.0 (clang-600.0.57)]"
        },
        {
         "module": "IPython",
         "version": "5.1.0"
        },
        {
         "module": "OS",
         "version": "Darwin 16.5.0 x86_64 i386 64bit"
        },
        {
         "module": "jupyter",
         "version": "1.0.0"
        },
        {
         "module": "ipython",
         "version": "5.1.0"
        }
       ]
      },
      "text/html": [
       "<table><tr><th>Software</th><th>Version</th></tr><tr><td>Python</td><td>3.6.0 64bit [GCC 4.2.1 Compatible Apple LLVM 6.0 (clang-600.0.57)]</td></tr><tr><td>IPython</td><td>5.1.0</td></tr><tr><td>OS</td><td>Darwin 16.5.0 x86_64 i386 64bit</td></tr><tr><td>jupyter</td><td>1.0.0</td></tr><tr><td>ipython</td><td>5.1.0</td></tr><tr><td colspan='2'>Sat Apr 29 15:04:09 2017 CEST</td></tr></table>"
      ],
      "text/latex": [
       "\\begin{tabular}{|l|l|}\\hline\n",
       "{\\bf Software} & {\\bf Version} \\\\ \\hline\\hline\n",
       "Python & 3.6.0 64bit [GCC 4.2.1 Compatible Apple LLVM 6.0 (clang-600.0.57)] \\\\ \\hline\n",
       "IPython & 5.1.0 \\\\ \\hline\n",
       "OS & Darwin 16.5.0 x86\\_64 i386 64bit \\\\ \\hline\n",
       "jupyter & 1.0.0 \\\\ \\hline\n",
       "ipython & 5.1.0 \\\\ \\hline\n",
       "\\hline \\multicolumn{2}{|l|}{Sat Apr 29 15:04:09 2017 CEST} \\\\ \\hline\n",
       "\\end{tabular}\n"
      ],
      "text/plain": [
       "Software versions\n",
       "Python 3.6.0 64bit [GCC 4.2.1 Compatible Apple LLVM 6.0 (clang-600.0.57)]\n",
       "IPython 5.1.0\n",
       "OS Darwin 16.5.0 x86_64 i386 64bit\n",
       "jupyter 1.0.0\n",
       "ipython 5.1.0\n",
       "Sat Apr 29 15:04:09 2017 CEST"
      ]
     },
     "execution_count": 1,
     "metadata": {},
     "output_type": "execute_result"
    }
   ],
   "source": [
    "import warnings\n",
    "warnings.filterwarnings(\"ignore\", module=\"matplotlib\")\n",
    "\n",
    "import sys, os, glob, base64\n",
    "import datetime as dt\n",
    "import pandas as pd\n",
    "import json\n",
    "import notebook as nb\n",
    "import requests as rq\n",
    "import jupyter_core\n",
    "\n",
    "from IPython.display import display, Javascript, HTML\n",
    "\n",
    "%version_information jupyter,ipython"
   ]
  },
  {
   "cell_type": "markdown",
   "metadata": {},
   "source": [
    "#### Convenient - Open main folders in text editor"
   ]
  },
  {
   "cell_type": "code",
   "execution_count": 2,
   "metadata": {
    "code_folding": [],
    "collapsed": true,
    "run_control": {
     "marked": false
    }
   },
   "outputs": [],
   "source": [
    "#  ! code /Users/Olivier/Dropbox/Archives/Software/GitHub/Jupyter_IPython_config_extensions \\\n",
    "#         /Users/Olivier/.jupyter \\\n",
    "#         /Users/Olivier/.ipython \\\n",
    "#         /Users/Olivier/Library/Jupyter \\\n",
    "#         /Users/Olivier/anaconda/share/jupyter"
   ]
  },
  {
   "cell_type": "markdown",
   "metadata": {
    "ezpublish": {
     "type": "show"
    },
    "run_control": {
     "marked": false
    }
   },
   "source": [
    "# 1 - Jupyter version"
   ]
  },
  {
   "cell_type": "code",
   "execution_count": 3,
   "metadata": {},
   "outputs": [
    {
     "name": "stdout",
     "output_type": "stream",
     "text": [
      "# packages in environment at /Users/Olivier/anaconda3:\n",
      "#\n",
      "jupyter                   1.0.0                    py36_3  \n",
      "jupyter_client            4.4.0                    py36_0  \n",
      "jupyter_console           5.0.0                    py36_0  \n",
      "jupyter_core              4.2.1                    py36_0  \n",
      "# packages in environment at /Users/Olivier/anaconda3:\n",
      "#\n",
      "ipython                   5.1.0                    py36_1  \n",
      "ipython_genutils          0.1.0                    py36_0  \n",
      "4.2.1\n"
     ]
    }
   ],
   "source": [
    "%%bash\n",
    "conda list jupyter\n",
    "conda list ipython\n",
    "jupyter --version"
   ]
  },
  {
   "cell_type": "code",
   "execution_count": 4,
   "metadata": {
    "run_control": {
     "marked": false
    },
    "scrolled": true
   },
   "outputs": [
    {
     "data": {
      "text/plain": [
       "(4, 2, 1)"
      ]
     },
     "execution_count": 4,
     "metadata": {},
     "output_type": "execute_result"
    }
   ],
   "source": [
    "jupyter_core.version_info"
   ]
  },
  {
   "cell_type": "markdown",
   "metadata": {
    "ezpublish": {
     "type": "show"
    },
    "run_control": {
     "marked": false
    }
   },
   "source": [
    "# 2 - Jupyter paths"
   ]
  },
  {
   "cell_type": "code",
   "execution_count": 5,
   "metadata": {
    "hide_input": false,
    "hide_output": false,
    "run_control": {
     "marked": false
    }
   },
   "outputs": [
    {
     "name": "stdout",
     "output_type": "stream",
     "text": [
      "config:\r\n",
      "    /Users/Olivier/.jupyter\r\n",
      "    /Users/Olivier/anaconda3/etc/jupyter\r\n",
      "    /usr/local/etc/jupyter\r\n",
      "    /etc/jupyter\r\n",
      "data:\r\n",
      "    /Users/Olivier/Library/Jupyter\r\n",
      "    /Users/Olivier/anaconda3/share/jupyter\r\n",
      "    /usr/local/share/jupyter\r\n",
      "    /usr/share/jupyter\r\n",
      "runtime:\r\n",
      "    /Users/Olivier/Library/Jupyter/runtime\r\n"
     ]
    }
   ],
   "source": [
    "! jupyter --paths\n",
    "# ! jupyter --paths --json"
   ]
  },
  {
   "cell_type": "code",
   "execution_count": 6,
   "metadata": {
    "run_control": {
     "marked": false
    }
   },
   "outputs": [
    {
     "name": "stdout",
     "output_type": "stream",
     "text": [
      "Jupyter config files in\n"
     ]
    },
    {
     "data": {
      "text/plain": [
       "['/Users/Olivier/.jupyter',\n",
       " '/Users/Olivier/anaconda3/etc/jupyter',\n",
       " '/usr/local/etc/jupyter',\n",
       " '/etc/jupyter']"
      ]
     },
     "execution_count": 6,
     "metadata": {},
     "output_type": "execute_result"
    }
   ],
   "source": [
    "print('Jupyter config files in')\n",
    "jupyter_core.paths.jupyter_config_path()"
   ]
  },
  {
   "cell_type": "code",
   "execution_count": 7,
   "metadata": {},
   "outputs": [
    {
     "data": {
      "text/plain": [
       "'/Users/Olivier/.jupyter'"
      ]
     },
     "execution_count": 7,
     "metadata": {},
     "output_type": "execute_result"
    }
   ],
   "source": [
    "jupyter_core.paths.jupyter_config_dir()"
   ]
  },
  {
   "cell_type": "markdown",
   "metadata": {},
   "source": [
    "### List of available notebook locations"
   ]
  },
  {
   "cell_type": "code",
   "execution_count": 8,
   "metadata": {
    "ezpublish": {
     "type": "show"
    },
    "run_control": {
     "marked": false
    }
   },
   "outputs": [
    {
     "name": "stdout",
     "output_type": "stream",
     "text": [
      "Jupyter user config files are in\n"
     ]
    },
    {
     "data": {
      "text/plain": [
       "'/Users/Olivier/.jupyter'"
      ]
     },
     "execution_count": 8,
     "metadata": {},
     "output_type": "execute_result"
    }
   ],
   "source": [
    "print('Jupyter user config files are in')\n",
    "jupyter_core.paths.jupyter_config_dir()"
   ]
  },
  {
   "cell_type": "code",
   "execution_count": 9,
   "metadata": {
    "run_control": {
     "marked": false
    }
   },
   "outputs": [
    {
     "name": "stdout",
     "output_type": "stream",
     "text": [
      "Jupyter user data files in\n"
     ]
    },
    {
     "data": {
      "text/plain": [
       "'/Users/Olivier/Library/Jupyter'"
      ]
     },
     "execution_count": 9,
     "metadata": {},
     "output_type": "execute_result"
    }
   ],
   "source": [
    "print('Jupyter user data files in')\n",
    "jupyter_core.paths.jupyter_data_dir()"
   ]
  },
  {
   "cell_type": "code",
   "execution_count": 10,
   "metadata": {
    "run_control": {
     "marked": false
    }
   },
   "outputs": [
    {
     "name": "stdout",
     "output_type": "stream",
     "text": [
      "Jupyter runtime files in\n"
     ]
    },
    {
     "data": {
      "text/plain": [
       "'/Users/Olivier/Library/Jupyter/runtime'"
      ]
     },
     "execution_count": 10,
     "metadata": {},
     "output_type": "execute_result"
    }
   ],
   "source": [
    "print('Jupyter runtime files in')\n",
    "jupyter_core.paths.jupyter_runtime_dir()"
   ]
  },
  {
   "cell_type": "code",
   "execution_count": 11,
   "metadata": {
    "run_control": {
     "marked": false
    }
   },
   "outputs": [
    {
     "name": "stdout",
     "output_type": "stream",
     "text": [
      "Jupyter nbextension files in\n"
     ]
    },
    {
     "data": {
      "text/plain": [
       "['/Users/Olivier/Library/Jupyter',\n",
       " '/Users/Olivier/anaconda3/share/jupyter',\n",
       " '/usr/local/share/jupyter',\n",
       " '/usr/share/jupyter']"
      ]
     },
     "execution_count": 11,
     "metadata": {},
     "output_type": "execute_result"
    }
   ],
   "source": [
    "print('Jupyter nbextension files in')\n",
    "jupyter_core.paths.jupyter_path()"
   ]
  },
  {
   "cell_type": "code",
   "execution_count": 12,
   "metadata": {
    "run_control": {
     "marked": false
    }
   },
   "outputs": [
    {
     "name": "stdout",
     "output_type": "stream",
     "text": [
      "Jupyter customjs files in\n"
     ]
    },
    {
     "data": {
      "text/plain": [
       "'/Users/Olivier/.jupyter/custom/custom.js'"
      ]
     },
     "execution_count": 12,
     "metadata": {},
     "output_type": "execute_result"
    }
   ],
   "source": [
    "print('Jupyter customjs files in')\n",
    "custom_js_path = os.path.join(jupyter_core.paths.jupyter_config_dir(), 'custom', 'custom.js')\n",
    "custom_js_path"
   ]
  },
  {
   "cell_type": "code",
   "execution_count": 13,
   "metadata": {
    "run_control": {
     "marked": false
    }
   },
   "outputs": [
    {
     "name": "stdout",
     "output_type": "stream",
     "text": [
      "You don't have a custom.js file\n"
     ]
    }
   ],
   "source": [
    "if os.path.isfile(custom_js_path):\n",
    "    with open(custom_js_path) as f:\n",
    "#         print(f.read())\n",
    "        pass\n",
    "else:\n",
    "    print(\"You don't have a custom.js file\")"
   ]
  },
  {
   "cell_type": "code",
   "execution_count": 14,
   "metadata": {},
   "outputs": [
    {
     "name": "stdout",
     "output_type": "stream",
     "text": [
      "Jupyter kernels\n",
      "Available kernels:\n",
      "  python3    /Users/Olivier/anaconda3/lib/python3.6/site-packages/ipykernel/resources\n",
      "  python2    /Users/Olivier/Library/Jupyter/kernels/python2\n",
      "{\n",
      "  \"kernelspecs\": {\n",
      "    \"python2\": {\n",
      "      \"resource_dir\": \"/Users/Olivier/Library/Jupyter/kernels/python2\",\n",
      "      \"spec\": {\n",
      "        \"argv\": [\n",
      "          \"/Users/Olivier/anaconda3/envs/py2/bin/python\",\n",
      "          \"-m\",\n",
      "          \"ipykernel\",\n",
      "          \"-f\",\n",
      "          \"{connection_file}\"\n",
      "        ],\n",
      "        \"env\": {},\n",
      "        \"display_name\": \"Python 2\",\n",
      "        \"language\": \"python\"\n",
      "      }\n",
      "    },\n",
      "    \"python3\": {\n",
      "      \"resource_dir\": \"/Users/Olivier/anaconda3/lib/python3.6/site-packages/ipykernel/resources\",\n",
      "      \"spec\": {\n",
      "        \"argv\": [\n",
      "          \"/Users/Olivier/anaconda3/bin/python\",\n",
      "          \"-m\",\n",
      "          \"ipykernel\",\n",
      "          \"-f\",\n",
      "          \"{connection_file}\"\n",
      "        ],\n",
      "        \"env\": {},\n",
      "        \"display_name\": \"Python 3\",\n",
      "        \"language\": \"python\"\n",
      "      }\n",
      "    }\n",
      "  }\n",
      "}\n"
     ]
    }
   ],
   "source": [
    "print('Jupyter kernels')\n",
    "! jupyter kernelspec list\n",
    "! jupyter kernelspec list --json\n"
   ]
  },
  {
   "cell_type": "code",
   "execution_count": null,
   "metadata": {
    "collapsed": true
   },
   "outputs": [],
   "source": []
  },
  {
   "cell_type": "markdown",
   "metadata": {},
   "source": [
    "# 3 - IPython extensions\n",
    "\n",
    "IPython extensions are Python modules with special functions:\n",
    "+ `load_ipython_extension`\n",
    "+ `unload_ipython_extension`\n",
    "\n",
    "They must be pip (or conda) installed like any other Python packages.  \n",
    "\n",
    "Official doc is [here](https://ipython.readthedocs.io/en/stable/config/extensions/index.html).  \n",
    "\n",
    "IPython comes with many built in extensions:"
   ]
  },
  {
   "cell_type": "code",
   "execution_count": 15,
   "metadata": {},
   "outputs": [
    {
     "data": {
      "application/json": {
       "cell": {
        "!": "OSMagics",
        "HTML": "Other",
        "SVG": "Other",
        "bash": "Other",
        "capture": "ExecutionMagics",
        "debug": "ExecutionMagics",
        "file": "Other",
        "html": "DisplayMagics",
        "javascript": "DisplayMagics",
        "js": "DisplayMagics",
        "latex": "DisplayMagics",
        "perl": "Other",
        "prun": "ExecutionMagics",
        "pypy": "Other",
        "python": "Other",
        "python2": "Other",
        "python3": "Other",
        "ruby": "Other",
        "script": "ScriptMagics",
        "sh": "Other",
        "svg": "DisplayMagics",
        "sx": "OSMagics",
        "system": "OSMagics",
        "time": "ExecutionMagics",
        "timeit": "ExecutionMagics",
        "writefile": "OSMagics"
       },
       "line": {
        "alias": "OSMagics",
        "alias_magic": "BasicMagics",
        "autocall": "AutoMagics",
        "automagic": "AutoMagics",
        "autosave": "KernelMagics",
        "bookmark": "OSMagics",
        "cat": "Other",
        "cd": "OSMagics",
        "clear": "KernelMagics",
        "colors": "BasicMagics",
        "config": "ConfigMagics",
        "connect_info": "KernelMagics",
        "cp": "Other",
        "debug": "ExecutionMagics",
        "dhist": "OSMagics",
        "dirs": "OSMagics",
        "doctest_mode": "BasicMagics",
        "ed": "Other",
        "edit": "KernelMagics",
        "env": "OSMagics",
        "gui": "BasicMagics",
        "hist": "Other",
        "history": "HistoryMagics",
        "killbgscripts": "ScriptMagics",
        "ldir": "Other",
        "less": "KernelMagics",
        "lf": "Other",
        "lk": "Other",
        "ll": "Other",
        "load": "CodeMagics",
        "load_ext": "ExtensionMagics",
        "loadpy": "CodeMagics",
        "logoff": "LoggingMagics",
        "logon": "LoggingMagics",
        "logstart": "LoggingMagics",
        "logstate": "LoggingMagics",
        "logstop": "LoggingMagics",
        "ls": "Other",
        "lsmagic": "BasicMagics",
        "lx": "Other",
        "macro": "ExecutionMagics",
        "magic": "BasicMagics",
        "man": "KernelMagics",
        "matplotlib": "PylabMagics",
        "mkdir": "Other",
        "more": "KernelMagics",
        "mv": "Other",
        "notebook": "BasicMagics",
        "page": "BasicMagics",
        "pastebin": "CodeMagics",
        "pdb": "ExecutionMagics",
        "pdef": "NamespaceMagics",
        "pdoc": "NamespaceMagics",
        "pfile": "NamespaceMagics",
        "pinfo": "NamespaceMagics",
        "pinfo2": "NamespaceMagics",
        "popd": "OSMagics",
        "pprint": "BasicMagics",
        "precision": "BasicMagics",
        "profile": "BasicMagics",
        "prun": "ExecutionMagics",
        "psearch": "NamespaceMagics",
        "psource": "NamespaceMagics",
        "pushd": "OSMagics",
        "pwd": "OSMagics",
        "pycat": "OSMagics",
        "pylab": "PylabMagics",
        "qtconsole": "KernelMagics",
        "quickref": "BasicMagics",
        "random_int": "RandomInt",
        "recall": "HistoryMagics",
        "rehashx": "OSMagics",
        "reload_ext": "ExtensionMagics",
        "rep": "Other",
        "rerun": "HistoryMagics",
        "reset": "NamespaceMagics",
        "reset_selective": "NamespaceMagics",
        "rm": "Other",
        "rmdir": "Other",
        "run": "ExecutionMagics",
        "save": "CodeMagics",
        "sc": "OSMagics",
        "set_env": "OSMagics",
        "store": "StoreMagics",
        "sx": "OSMagics",
        "system": "OSMagics",
        "tb": "ExecutionMagics",
        "time": "ExecutionMagics",
        "timeit": "ExecutionMagics",
        "unalias": "OSMagics",
        "unload_ext": "ExtensionMagics",
        "version_information": "VersionInformation",
        "who": "NamespaceMagics",
        "who_ls": "NamespaceMagics",
        "whos": "NamespaceMagics",
        "xdel": "NamespaceMagics",
        "xmode": "BasicMagics"
       }
      },
      "text/plain": [
       "Available line magics:\n",
       "%alias  %alias_magic  %autocall  %automagic  %autosave  %bookmark  %cat  %cd  %clear  %colors  %config  %connect_info  %cp  %debug  %dhist  %dirs  %doctest_mode  %ed  %edit  %env  %gui  %hist  %history  %killbgscripts  %ldir  %less  %lf  %lk  %ll  %load  %load_ext  %loadpy  %logoff  %logon  %logstart  %logstate  %logstop  %ls  %lsmagic  %lx  %macro  %magic  %man  %matplotlib  %mkdir  %more  %mv  %notebook  %page  %pastebin  %pdb  %pdef  %pdoc  %pfile  %pinfo  %pinfo2  %popd  %pprint  %precision  %profile  %prun  %psearch  %psource  %pushd  %pwd  %pycat  %pylab  %qtconsole  %quickref  %random_int  %recall  %rehashx  %reload_ext  %rep  %rerun  %reset  %reset_selective  %rm  %rmdir  %run  %save  %sc  %set_env  %store  %sx  %system  %tb  %time  %timeit  %unalias  %unload_ext  %version_information  %who  %who_ls  %whos  %xdel  %xmode\n",
       "\n",
       "Available cell magics:\n",
       "%%!  %%HTML  %%SVG  %%bash  %%capture  %%debug  %%file  %%html  %%javascript  %%js  %%latex  %%perl  %%prun  %%pypy  %%python  %%python2  %%python3  %%ruby  %%script  %%sh  %%svg  %%sx  %%system  %%time  %%timeit  %%writefile\n",
       "\n",
       "Automagic is ON, % prefix IS NOT needed for line magics."
      ]
     },
     "execution_count": 15,
     "metadata": {},
     "output_type": "execute_result"
    }
   ],
   "source": [
    "%lsmagic"
   ]
  },
  {
   "cell_type": "markdown",
   "metadata": {},
   "source": [
    "## Demo IPython extension\n",
    "\n",
    "+ ``random_int`` is a sample extension\n",
    "+ Only ``random_int/__init___.py`` and ``setup.py`` are necessary\n",
    "+ The other files are machine generated"
   ]
  },
  {
   "cell_type": "code",
   "execution_count": 16,
   "metadata": {},
   "outputs": [
    {
     "name": "stdout",
     "output_type": "stream",
     "text": [
      "ipython_extensions/random_int/\r\n",
      "├── random_int\r\n",
      "│   ├── __init__.py\r\n",
      "│   ├── __init__.pyc\r\n",
      "│   └── __pycache__\r\n",
      "│       ├── __init__.cpython-35.pyc\r\n",
      "│       └── __init__.cpython-36.pyc\r\n",
      "├── random_int.egg-info\r\n",
      "│   ├── PKG-INFO\r\n",
      "│   ├── SOURCES.txt\r\n",
      "│   ├── dependency_links.txt\r\n",
      "│   ├── not-zip-safe\r\n",
      "│   └── top_level.txt\r\n",
      "└── setup.py\r\n",
      "\r\n",
      "3 directories, 10 files\r\n"
     ]
    }
   ],
   "source": [
    "! tree ipython_extensions/random_int/"
   ]
  },
  {
   "cell_type": "code",
   "execution_count": 17,
   "metadata": {
    "collapsed": true
   },
   "outputs": [],
   "source": [
    "# ! cat ipython_extensions/random_int/random_int/__init__.py"
   ]
  },
  {
   "cell_type": "code",
   "execution_count": 18,
   "metadata": {
    "collapsed": true
   },
   "outputs": [],
   "source": [
    "# ! cat ipython_extensions/random_int/setup.py"
   ]
  },
  {
   "cell_type": "markdown",
   "metadata": {
    "ezpublish": {
     "type": "show"
    },
    "run_control": {
     "marked": false
    }
   },
   "source": [
    "## Install IPython extension\n",
    "+ IPython extensions must be installed with pip (or conda) in the kernel env.\n",
    "+ Using `pip install <ipython_extension_directory>`\n",
    "+ Or `pip install -e <ipython_extension_directory>` for a dev install (symlinks)\n",
    "\n",
    "_Note_:\n",
    "+ If you pip install `-e` then you cannot `load_ext` the extention in the notebook. You must configure it in `ipython_config.py`.\n",
    "+ If you pip install without `-e` then you can `load_ext` the extention in the notebook\n"
   ]
  },
  {
   "cell_type": "code",
   "execution_count": 19,
   "metadata": {},
   "outputs": [
    {
     "name": "stdout",
     "output_type": "stream",
     "text": [
      "Processing ./ipython_extensions/random_int\n",
      "Installing collected packages: random-int\n",
      "  Found existing installation: random-int 0.1\n",
      "    Uninstalling random-int-0.1:\n",
      "      Successfully uninstalled random-int-0.1\n",
      "  Running setup.py install for random-int ... \u001b[?25ldone\n",
      "\u001b[?25hSuccessfully installed random-int-0.1\n"
     ]
    }
   ],
   "source": [
    "# ! pip uninstall --yes random_int\n",
    "! pip install --upgrade ipython_extensions/random_int"
   ]
  },
  {
   "cell_type": "markdown",
   "metadata": {},
   "source": [
    "## Load IPython extension"
   ]
  },
  {
   "cell_type": "code",
   "execution_count": 20,
   "metadata": {},
   "outputs": [
    {
     "name": "stdout",
     "output_type": "stream",
     "text": [
      "The random_int extension is already loaded. To reload it, use:\n",
      "  %reload_ext random_int\n"
     ]
    }
   ],
   "source": [
    "# if ipython extension not already loaded\n",
    "%load_ext random_int"
   ]
  },
  {
   "cell_type": "code",
   "execution_count": 21,
   "metadata": {},
   "outputs": [
    {
     "data": {
      "text/html": [
       "<b>4745</b>"
      ],
      "text/plain": [
       "<random_int.RandomInt at 0x110f343c8>"
      ]
     },
     "execution_count": 21,
     "metadata": {},
     "output_type": "execute_result"
    }
   ],
   "source": [
    "%random_int 8800"
   ]
  },
  {
   "cell_type": "markdown",
   "metadata": {},
   "source": [
    "## Load IPython extension automatically at startup\n",
    "+ To do that configure ~/.jupyter/.ipython_config.py file e.g.\n",
    "````\n",
    "c.InteractiveShellApp.extensions = ['random_int']\n",
    "````"
   ]
  },
  {
   "cell_type": "markdown",
   "metadata": {
    "ezpublish": {
     "type": "show"
    },
    "run_control": {
     "marked": false
    }
   },
   "source": [
    "## Show .ipython_config.py\n",
    "+ This file is run at kernel startup\n",
    "+ `c.InteractiveShellApp.exec_lines` contains Python lines to be executed.\n",
    "+ `c.InteractiveShellApp.extensions` contains a list of IPython extensions to load.\n",
    "+ If you don't have such file you must create default config files."
   ]
  },
  {
   "cell_type": "code",
   "execution_count": 22,
   "metadata": {},
   "outputs": [
    {
     "name": "stdout",
     "output_type": "stream",
     "text": [
      "Uncommented lines of ~/.ipython/profile_default/ipython_config.py:\n",
      "\n",
      "c.InteractiveShellApp.extensions = ['version_information', 'random_int']\n"
     ]
    }
   ],
   "source": [
    "home = os.path.expanduser('~')\n",
    "path = '.ipython/profile_default/ipython_config.py'\n",
    "\n",
    "try:\n",
    "    with open(os.path.join(home, path)) as f:    \n",
    "        lines = f.read().split('\\n')\n",
    "        print('Uncommented lines of ~/.ipython/profile_default/ipython_config.py:\\n')\n",
    "        for line in lines:\n",
    "            if not (line.startswith('#') or line is ''):\n",
    "                print(line)\n",
    "except FileNotFoundError:\n",
    "    print('Run \"ipython profile create\" to create default config files')\n",
    "    print('\\tipython_config.py')\n",
    "    print('\\tipython_kernel_config.py')"
   ]
  },
  {
   "cell_type": "code",
   "execution_count": null,
   "metadata": {
    "collapsed": true
   },
   "outputs": [],
   "source": []
  },
  {
   "cell_type": "markdown",
   "metadata": {},
   "source": [
    "# 4 - Jupyter notebook extensions\n",
    "\n",
    "Jupyter nbextensions are javascripts modules which expose a special function: `load_ipython_extension`.  \n",
    "They enable to customize the behaviour of the the dashboard, the notebook, or the text editor.  \n",
    "_Note_: This name is misleading (There is nothing Python about it) for historical reasons. \n",
    "\n",
    "They must be installed and then enabled with a special procedure.  \n",
    "\n",
    "Many can be downloaded from the Internet.  \n",
    "\n",
    "Official doc is [here](http://jupyter-notebook.readthedocs.io/en/latest/extending/frontend_extensions.html).  "
   ]
  },
  {
   "cell_type": "markdown",
   "metadata": {
    "ezpublish": {
     "type": "show"
    },
    "run_control": {
     "marked": false
    }
   },
   "source": [
    "## Download selection of nbextensions\n",
    "from https://github.com/ipython-contrib/jupyter_contrib_nbextensions"
   ]
  },
  {
   "cell_type": "markdown",
   "metadata": {
    "run_control": {
     "marked": false
    }
   },
   "source": [
    "### GitHub API status\n",
    "To monitor the quota and avoid hitting the max traffic allowed"
   ]
  },
  {
   "cell_type": "code",
   "execution_count": 23,
   "metadata": {},
   "outputs": [
    {
     "data": {
      "text/html": [
       "<div>\n",
       "<table border=\"1\" class=\"dataframe\">\n",
       "  <thead>\n",
       "    <tr style=\"text-align: right;\">\n",
       "      <th></th>\n",
       "      <th>value</th>\n",
       "    </tr>\n",
       "  </thead>\n",
       "  <tbody>\n",
       "    <tr>\n",
       "      <th>core.limit</th>\n",
       "      <td>60</td>\n",
       "    </tr>\n",
       "    <tr>\n",
       "      <th>core.remaining</th>\n",
       "      <td>60</td>\n",
       "    </tr>\n",
       "    <tr>\n",
       "      <th>core.reset</th>\n",
       "      <td>2017-04-29 16:05:13</td>\n",
       "    </tr>\n",
       "    <tr>\n",
       "      <th>graphql.limit</th>\n",
       "      <td>0</td>\n",
       "    </tr>\n",
       "    <tr>\n",
       "      <th>graphql.remaining</th>\n",
       "      <td>0</td>\n",
       "    </tr>\n",
       "    <tr>\n",
       "      <th>graphql.reset</th>\n",
       "      <td>1493474713</td>\n",
       "    </tr>\n",
       "    <tr>\n",
       "      <th>search.limit</th>\n",
       "      <td>10</td>\n",
       "    </tr>\n",
       "    <tr>\n",
       "      <th>search.remaining</th>\n",
       "      <td>10</td>\n",
       "    </tr>\n",
       "    <tr>\n",
       "      <th>search.reset</th>\n",
       "      <td>2017-04-29 15:06:13</td>\n",
       "    </tr>\n",
       "  </tbody>\n",
       "</table>\n",
       "</div>"
      ],
      "text/plain": [
       "                                 value\n",
       "core.limit                          60\n",
       "core.remaining                      60\n",
       "core.reset         2017-04-29 16:05:13\n",
       "graphql.limit                        0\n",
       "graphql.remaining                    0\n",
       "graphql.reset               1493474713\n",
       "search.limit                        10\n",
       "search.remaining                    10\n",
       "search.reset       2017-04-29 15:06:13"
      ]
     },
     "execution_count": 23,
     "metadata": {},
     "output_type": "execute_result"
    }
   ],
   "source": [
    "gh_json = rq.get('https://api.github.com/rate_limit').json()\n",
    "df = pd.io.json.json_normalize(gh_json['resources'])\n",
    "df.index = ['value']\n",
    "fmt = lambda x: dt.datetime.fromtimestamp(x).strftime('%Y-%m-%d %H:%M:%S')\n",
    "df['core.reset'] = fmt(df['core.reset'])\n",
    "df['search.reset'] = fmt(df['search.reset'])\n",
    "df.T\n"
   ]
  },
  {
   "cell_type": "code",
   "execution_count": 24,
   "metadata": {
    "code_folding": [],
    "collapsed": true,
    "run_control": {
     "marked": false
    }
   },
   "outputs": [],
   "source": [
    "def download_ext(ext_name):\n",
    "    print(ext_name)\n",
    "    prefix = 'https://api.github.com/repos/ipython-contrib/jupyter_contrib_nbextensions/contents/' + \\\n",
    "             'src/jupyter_contrib_nbextensions/nbextensions/'\n",
    "    res = rq.get(prefix + ext_name)\n",
    "    content = json.loads(res.content)\n",
    "\n",
    "    if not os.path.exists('nbextensions'):\n",
    "        os.makedirs('nbextensions')\n",
    "    \n",
    "    li_name_url = [(e['name'], e['url']) for e in content\n",
    "                       if (e['name'].endswith('.js') or e['name'].endswith('.css'))]\n",
    "    print('\\t{}'.format([e[0] for e in li_name_url]))\n",
    "        \n",
    "    for filename, url in li_name_url:\n",
    "        res = rq.get(url)\n",
    "        content = json.loads(res.content)\n",
    "        ext_code = base64.b64decode(content['content']).decode('utf-8')\n",
    "        \n",
    "        if not os.path.exists(os.path.join('nbextensions', ext_name)):\n",
    "            os.makedirs(os.path.join('nbextensions', ext_name))\n",
    "            \n",
    "        path = os.path.join('nbextensions', ext_name, filename)\n",
    "        with open(path, 'w') as f:\n",
    "            f.write(ext_code)\n",
    "    \n",
    "\n",
    "li_remote_ext_name = ['chrome-clipboard', 'comment-uncomment', 'codefolding',\n",
    "                      'code_font_size', 'hide_input', 'hide_input_all',\n",
    "                      'init_cell', 'limit_output', 'qtconsole', 'runtools']"
   ]
  },
  {
   "cell_type": "code",
   "execution_count": 25,
   "metadata": {
    "run_control": {
     "marked": false
    },
    "scrolled": false
   },
   "outputs": [
    {
     "name": "stdout",
     "output_type": "stream",
     "text": [
      "chrome-clipboard\n",
      "\t['main.js']\n",
      "comment-uncomment\n",
      "\t['main.js']\n",
      "codefolding\n",
      "\t['edit.js', 'firstline-fold.js', 'foldgutter.css', 'magic-fold.js', 'main.js']\n",
      "code_font_size\n",
      "\t['code_font_size.js']\n",
      "hide_input\n",
      "\t['main.js']\n",
      "hide_input_all\n",
      "\t['main.js']\n",
      "init_cell\n",
      "\t['main.js']\n",
      "limit_output\n",
      "\t['main.js']\n",
      "qtconsole\n",
      "\t['qtconsole.js']\n",
      "runtools\n",
      "\t['gutter.css', 'main.css', 'main.js']\n"
     ]
    }
   ],
   "source": [
    "for ext_name in li_remote_ext_name[:]:\n",
    "    download_ext(ext_name)"
   ]
  },
  {
   "cell_type": "markdown",
   "metadata": {},
   "source": [
    "## Sample nbextension\n",
    "\n",
    "+ Simple nbextensions - as minimal examples - may be useful"
   ]
  },
  {
   "cell_type": "code",
   "execution_count": 26,
   "metadata": {
    "collapsed": true
   },
   "outputs": [],
   "source": [
    "# ! cat nbextensions/autosave/main.js"
   ]
  },
  {
   "cell_type": "code",
   "execution_count": 27,
   "metadata": {
    "collapsed": true
   },
   "outputs": [],
   "source": [
    "# ! cat nbextensions/default_style/main.js"
   ]
  },
  {
   "cell_type": "markdown",
   "metadata": {
    "ezpublish": {
     "type": "show"
    },
    "run_control": {
     "marked": false
    }
   },
   "source": [
    "## Install nbextension"
   ]
  },
  {
   "cell_type": "markdown",
   "metadata": {
    "ezpublish": {
     "type": "show"
    },
    "run_control": {
     "marked": false
    }
   },
   "source": [
    "### Install"
   ]
  },
  {
   "cell_type": "code",
   "execution_count": 28,
   "metadata": {
    "collapsed": true,
    "run_control": {
     "marked": false
    }
   },
   "outputs": [],
   "source": [
    "li_ext_name = li_remote_ext_name + ['autosave', 'default_style']\n",
    "\n",
    "for d in li_ext_name:\n",
    "    nb.install_nbextension(os.path.join('nbextensions', d), user=True, overwrite=True)"
   ]
  },
  {
   "cell_type": "markdown",
   "metadata": {
    "ezpublish": {
     "type": "show"
    },
    "run_control": {
     "marked": false
    }
   },
   "source": [
    "### Check install"
   ]
  },
  {
   "cell_type": "code",
   "execution_count": 29,
   "metadata": {
    "run_control": {
     "marked": false
    },
    "scrolled": false
   },
   "outputs": [
    {
     "data": {
      "text/html": [
       "<div>\n",
       "<table border=\"1\" class=\"dataframe\">\n",
       "  <thead>\n",
       "    <tr style=\"text-align: right;\">\n",
       "      <th></th>\n",
       "      <th>name</th>\n",
       "      <th>installed</th>\n",
       "    </tr>\n",
       "  </thead>\n",
       "  <tbody>\n",
       "    <tr>\n",
       "      <th>0</th>\n",
       "      <td>chrome-clipboard</td>\n",
       "      <td>True</td>\n",
       "    </tr>\n",
       "    <tr>\n",
       "      <th>1</th>\n",
       "      <td>comment-uncomment</td>\n",
       "      <td>True</td>\n",
       "    </tr>\n",
       "    <tr>\n",
       "      <th>2</th>\n",
       "      <td>codefolding</td>\n",
       "      <td>True</td>\n",
       "    </tr>\n",
       "    <tr>\n",
       "      <th>3</th>\n",
       "      <td>code_font_size</td>\n",
       "      <td>True</td>\n",
       "    </tr>\n",
       "    <tr>\n",
       "      <th>4</th>\n",
       "      <td>hide_input</td>\n",
       "      <td>True</td>\n",
       "    </tr>\n",
       "    <tr>\n",
       "      <th>5</th>\n",
       "      <td>hide_input_all</td>\n",
       "      <td>True</td>\n",
       "    </tr>\n",
       "    <tr>\n",
       "      <th>6</th>\n",
       "      <td>init_cell</td>\n",
       "      <td>True</td>\n",
       "    </tr>\n",
       "    <tr>\n",
       "      <th>7</th>\n",
       "      <td>limit_output</td>\n",
       "      <td>True</td>\n",
       "    </tr>\n",
       "    <tr>\n",
       "      <th>8</th>\n",
       "      <td>qtconsole</td>\n",
       "      <td>True</td>\n",
       "    </tr>\n",
       "    <tr>\n",
       "      <th>9</th>\n",
       "      <td>runtools</td>\n",
       "      <td>True</td>\n",
       "    </tr>\n",
       "    <tr>\n",
       "      <th>10</th>\n",
       "      <td>autosave</td>\n",
       "      <td>True</td>\n",
       "    </tr>\n",
       "    <tr>\n",
       "      <th>11</th>\n",
       "      <td>default_style</td>\n",
       "      <td>True</td>\n",
       "    </tr>\n",
       "  </tbody>\n",
       "</table>\n",
       "</div>"
      ],
      "text/plain": [
       "                 name installed\n",
       "0    chrome-clipboard      True\n",
       "1   comment-uncomment      True\n",
       "2         codefolding      True\n",
       "3      code_font_size      True\n",
       "4          hide_input      True\n",
       "5      hide_input_all      True\n",
       "6           init_cell      True\n",
       "7        limit_output      True\n",
       "8           qtconsole      True\n",
       "9            runtools      True\n",
       "10           autosave      True\n",
       "11      default_style      True"
      ]
     },
     "execution_count": 29,
     "metadata": {},
     "output_type": "execute_result"
    }
   ],
   "source": [
    "li_ext = [[ext_name, nb.nbextensions.check_nbextension('autosave', user=True)]\n",
    "              for ext_name in li_ext_name]\n",
    "df_ext = pd.DataFrame(li_ext, columns=['name', 'installed'])\n",
    "df_ext"
   ]
  },
  {
   "cell_type": "code",
   "execution_count": 30,
   "metadata": {
    "run_control": {
     "marked": false
    }
   },
   "outputs": [
    {
     "name": "stdout",
     "output_type": "stream",
     "text": [
      "Show all nbextensions files installed:\n",
      "\n",
      "/Users/Olivier/Library/Jupyter/nbextensions\n",
      "\t/Users/Olivier/Library/Jupyter/nbextensions/autosave\n",
      "\t\t/Users/Olivier/Library/Jupyter/nbextensions/autosave/main.js\n",
      "\t/Users/Olivier/Library/Jupyter/nbextensions/chrome-clipboard\n",
      "\t\t/Users/Olivier/Library/Jupyter/nbextensions/chrome-clipboard/main.js\n",
      "\t/Users/Olivier/Library/Jupyter/nbextensions/code_font_size\n",
      "\t\t/Users/Olivier/Library/Jupyter/nbextensions/code_font_size/code_font_size.js\n",
      "\t/Users/Olivier/Library/Jupyter/nbextensions/codefolding\n",
      "\t\t/Users/Olivier/Library/Jupyter/nbextensions/codefolding/edit.js\n",
      "\t\t/Users/Olivier/Library/Jupyter/nbextensions/codefolding/firstline-fold.js\n",
      "\t\t/Users/Olivier/Library/Jupyter/nbextensions/codefolding/foldgutter.css\n",
      "\t\t/Users/Olivier/Library/Jupyter/nbextensions/codefolding/magic-fold.js\n",
      "\t\t/Users/Olivier/Library/Jupyter/nbextensions/codefolding/main.js\n",
      "\t/Users/Olivier/Library/Jupyter/nbextensions/comment-uncomment\n",
      "\t\t/Users/Olivier/Library/Jupyter/nbextensions/comment-uncomment/main.js\n",
      "\t/Users/Olivier/Library/Jupyter/nbextensions/default_style\n",
      "\t\t/Users/Olivier/Library/Jupyter/nbextensions/default_style/main.js\n",
      "\t\t/Users/Olivier/Library/Jupyter/nbextensions/default_style/my_default.css\n",
      "\t/Users/Olivier/Library/Jupyter/nbextensions/ezpublish\n",
      "\t\t/Users/Olivier/Library/Jupyter/nbextensions/ezpublish/main.js\n",
      "\t/Users/Olivier/Library/Jupyter/nbextensions/hide_input\n",
      "\t\t/Users/Olivier/Library/Jupyter/nbextensions/hide_input/main.js\n",
      "\t/Users/Olivier/Library/Jupyter/nbextensions/hide_input_all\n",
      "\t\t/Users/Olivier/Library/Jupyter/nbextensions/hide_input_all/main.js\n",
      "\t/Users/Olivier/Library/Jupyter/nbextensions/init_cell\n",
      "\t\t/Users/Olivier/Library/Jupyter/nbextensions/init_cell/main.js\n",
      "\t/Users/Olivier/Library/Jupyter/nbextensions/limit_output\n",
      "\t\t/Users/Olivier/Library/Jupyter/nbextensions/limit_output/main.js\n",
      "\t/Users/Olivier/Library/Jupyter/nbextensions/qtconsole\n",
      "\t\t/Users/Olivier/Library/Jupyter/nbextensions/qtconsole/qtconsole.js\n",
      "\t/Users/Olivier/Library/Jupyter/nbextensions/runtools\n",
      "\t\t/Users/Olivier/Library/Jupyter/nbextensions/runtools/gutter.css\n",
      "\t\t/Users/Olivier/Library/Jupyter/nbextensions/runtools/main.css\n",
      "\t\t/Users/Olivier/Library/Jupyter/nbextensions/runtools/main.js\n",
      "/Users/Olivier/anaconda3/share/jupyter/nbextensions\n",
      "\t/Users/Olivier/anaconda3/share/jupyter/nbextensions/jupyter-js-widgets\n"
     ]
    }
   ],
   "source": [
    "print('Show all nbextensions files installed:\\n')\n",
    "for k, d in enumerate(jupyter_core.paths.jupyter_path()):\n",
    "    li_dir = glob.glob(d+'/*')\n",
    "    for d in li_dir:\n",
    "        if 'nbextension' in d:\n",
    "            print(d)\n",
    "            for e in glob.glob(d+'/*'):\n",
    "                print('\\t'+e)\n",
    "                if k == 0:\n",
    "                    for f in glob.glob(e+'/*'):\n",
    "                        print('\\t\\t'+f)"
   ]
  },
  {
   "cell_type": "markdown",
   "metadata": {
    "ezpublish": {
     "type": "show"
    },
    "run_control": {
     "marked": false
    }
   },
   "source": [
    "## Enable nbextension"
   ]
  },
  {
   "cell_type": "markdown",
   "metadata": {
    "ezpublish": {
     "type": "show"
    },
    "run_control": {
     "marked": false
    }
   },
   "source": [
    "### From the terminal (Recommended)\n",
    "+ This will update ~/.jupyter/nbconfig/notebook.json\n",
    "+ Reload web page (Cmd+R) to see the effect"
   ]
  },
  {
   "cell_type": "code",
   "execution_count": 31,
   "metadata": {
    "run_control": {
     "marked": false
    }
   },
   "outputs": [
    {
     "name": "stdout",
     "output_type": "stream",
     "text": [
      "Enabling notebook extension comment-uncomment/main...\n",
      "      - Validating: \u001b[32mOK\u001b[0m\n",
      "Enabling notebook extension codefolding/main...\n",
      "      - Validating: \u001b[32mOK\u001b[0m\n",
      "Enabling notebook extension default_style/main...\n",
      "      - Validating: \u001b[32mOK\u001b[0m\n"
     ]
    }
   ],
   "source": [
    "! jupyter nbextension enable comment-uncomment/main\n",
    "! jupyter nbextension enable codefolding/main\n",
    "! jupyter nbextension enable default_style/main\n",
    "\n",
    "# ! jupyter nbextension disable comment-uncomment/main"
   ]
  },
  {
   "cell_type": "markdown",
   "metadata": {
    "ezpublish": {
     "type": "show"
    },
    "run_control": {
     "marked": false
    }
   },
   "source": [
    "### From the notebook\n",
    "+ This will update ~/.jupyter/nbconfig/notebook.json\n",
    "    + True will add line (if not present) and set value to True\n",
    "    + False will add line (if not present) and set value to False\n",
    "    + None will remove line"
   ]
  },
  {
   "cell_type": "code",
   "execution_count": 32,
   "metadata": {},
   "outputs": [
    {
     "data": {
      "text/plain": [
       "{'load_extensions': {'codefolding/main': True,\n",
       "  'comment-uncomment/main': True,\n",
       "  'default_style/main': True}}"
      ]
     },
     "execution_count": 32,
     "metadata": {},
     "output_type": "execute_result"
    }
   ],
   "source": [
    "from notebook.services.config import ConfigManager\n",
    "cm = ConfigManager()\n",
    "cm.update('notebook', {'load_extensions': {'codefolding/main': True}})\n",
    "# cm.update('notebook', {'load_extensions': {'codefolding/main': False}})\n",
    "# cm.update('notebook', {'load_extensions': {'codefolding/main': None}})"
   ]
  },
  {
   "cell_type": "markdown",
   "metadata": {
    "ezpublish": {
     "type": "show"
    },
    "run_control": {
     "marked": false
    }
   },
   "source": [
    "### From javascript (Hack)\n",
    "+ Open console and see immediate effect\n",
    "+ Clear cell output and reload page to remove extension\n",
    "+ Note that ~/.jupyter/nbconfig/notebook.json is not updated"
   ]
  },
  {
   "cell_type": "code",
   "execution_count": 33,
   "metadata": {
    "collapsed": true,
    "ezpublish": {
     "type": "show"
    },
    "run_control": {
     "marked": false
    }
   },
   "outputs": [],
   "source": [
    "ext_name = 'code_font_size/code_font_size'\n",
    "# ext_name = ''\n",
    "\n",
    "js = \"\"\"\n",
    "console.log('loading nbextension {}');\n",
    "var utils = require('base/js/utils');\n",
    "utils.load_extensions('{}');\n",
    "\"\"\".format(ext_name, ext_name)\n",
    "\n",
    "# Javascript(js)"
   ]
  },
  {
   "cell_type": "markdown",
   "metadata": {
    "ezpublish": {
     "type": "show"
    },
    "run_control": {
     "marked": false
    }
   },
   "source": [
    "## Enable nbextensions automatically at startup\n",
    "\n",
    "+ Enabling nbextensions in the previous steps has populated ~/.jupyter/nbconfig/notebook.json\n",
    "+ The nbextensions in this file are launched at startup"
   ]
  },
  {
   "cell_type": "code",
   "execution_count": 34,
   "metadata": {
    "run_control": {
     "marked": false
    }
   },
   "outputs": [
    {
     "name": "stdout",
     "output_type": "stream",
     "text": [
      "Known nbextensions:\r\n",
      "  config dir: /Users/Olivier/.jupyter/nbconfig\r\n",
      "    notebook section\r\n",
      "      codefolding/main \u001b[32m enabled \u001b[0m\r\n",
      "      - Validating: \u001b[32mOK\u001b[0m\r\n",
      "      comment-uncomment/main \u001b[32m enabled \u001b[0m\r\n",
      "      - Validating: \u001b[32mOK\u001b[0m\r\n",
      "      default_style/main \u001b[32m enabled \u001b[0m\r\n",
      "      - Validating: \u001b[32mOK\u001b[0m\r\n",
      "  config dir: /Users/Olivier/anaconda3/etc/jupyter/nbconfig\r\n",
      "    notebook section\r\n",
      "      jupyter-js-widgets/extension \u001b[32m enabled \u001b[0m\r\n",
      "      - Validating: \u001b[32mOK\u001b[0m\r\n"
     ]
    }
   ],
   "source": [
    "! jupyter nbextension list"
   ]
  },
  {
   "cell_type": "code",
   "execution_count": 35,
   "metadata": {
    "run_control": {
     "marked": false
    }
   },
   "outputs": [
    {
     "name": "stdout",
     "output_type": "stream",
     "text": [
      "/Users/Olivier/.jupyter/nbconfig/notebook.json\n",
      "{\n",
      "  \"load_extensions\": {\n",
      "    \"codefolding/main\": true,\n",
      "    \"comment-uncomment/main\": true,\n",
      "    \"default_style/main\": true\n",
      "  }\n",
      "}\n",
      "/Users/Olivier/anaconda3/etc/jupyter/nbconfig/notebook.json\n",
      "{\n",
      "  \"load_extensions\": {\n",
      "    \"jupyter-js-widgets/extension\": true\n",
      "  }\n",
      "}\n"
     ]
    }
   ],
   "source": [
    "for d in jupyter_core.paths.jupyter_config_path():\n",
    "    for e in glob.glob(d+'/nbconfig/*'):\n",
    "        if e.endswith('notebook.json'):\n",
    "            print(e)\n",
    "            with open(e, 'r') as f:\n",
    "                print(f.read())\n",
    "    "
   ]
  },
  {
   "cell_type": "markdown",
   "metadata": {
    "ezpublish": {
     "type": "show"
    },
    "run_control": {
     "marked": false
    }
   },
   "source": [
    "## Actions available to build nbextensions (Advanced)\n",
    "\n",
    "There are many actions available.  \n",
    "But no API yet to access the list of all available actions.  \n",
    "\n",
    "So the exploration is a bit hacky.  \n",
    "\n",
    "### Available actions  in nbextension\n",
    "+ directly available\n",
    "+ also many more via CodeMirror in edit mode\n"
   ]
  },
  {
   "cell_type": "code",
   "execution_count": 36,
   "metadata": {},
   "outputs": [
    {
     "name": "stdout",
     "output_type": "stream",
     "text": [
      "open console to read the results\n"
     ]
    },
    {
     "data": {
      "application/javascript": [
       "\n",
       "var jupyter= require('base/js/namespace');\n",
       " \n",
       "var li_jupyter_module = JSON.stringify(Object.keys(jupyter));\n",
       "var li_notebook_action = JSON.stringify(Object.keys(jupyter.actions._actions));\n",
       "var li_toolbar_action = JSON.stringify(Object.keys(jupyter.actions._actions));\n",
       " \n",
       "jupyter.notebook.kernel.execute('li_jupyter_module='+li_jupyter_module);\n",
       "jupyter.notebook.kernel.execute('li_notebook_action='+li_notebook_action);\n"
      ],
      "text/plain": [
       "<IPython.core.display.Javascript object>"
      ]
     },
     "execution_count": 36,
     "metadata": {},
     "output_type": "execute_result"
    }
   ],
   "source": [
    "js = \"\"\"\n",
    "var jupyter= require('base/js/namespace');\n",
    " \n",
    "var li_jupyter_module = JSON.stringify(Object.keys(jupyter));\n",
    "var li_notebook_action = JSON.stringify(Object.keys(jupyter.actions._actions));\n",
    "var li_toolbar_action = JSON.stringify(Object.keys(jupyter.actions._actions));\n",
    " \n",
    "jupyter.notebook.kernel.execute('li_jupyter_module='+li_jupyter_module);\n",
    "jupyter.notebook.kernel.execute('li_notebook_action='+li_notebook_action);\n",
    "\"\"\"\n",
    "\n",
    "print('open console to read the results')\n",
    "Javascript(js)"
   ]
  },
  {
   "cell_type": "markdown",
   "metadata": {},
   "source": [
    "### Available modules ie directly under require('base/js/namespace')"
   ]
  },
  {
   "cell_type": "code",
   "execution_count": 37,
   "metadata": {},
   "outputs": [
    {
     "name": "stdout",
     "output_type": "stream",
     "text": [
      "['utils', 'security', 'keyboard', 'dialog', 'mathjaxutils', 'CommManager', 'Comm', 'NotificationWidget', 'Kernel', 'Session', 'LoginWidget', 'Page', 'TextCell', 'OutputArea', 'KeyboardManager', 'Completer', 'Notebook', 'Tooltip', 'Toolbar', 'SaveWidget', 'Pager', 'QuickHelp', 'MarkdownCell', 'RawCell', 'Cell', 'MainToolBar', 'NotebookNotificationArea', 'NotebookTour', 'MenuBar', 'SessionList', 'version', '_target', 'Events', 'events', 'CellToolbar', 'CodeCell', 'kernelselector', 'page', 'notebook', 'contents', 'pager', 'quick_help', 'login_widget', 'menubar', 'toolbar', 'notification_area', 'keyboard_manager', 'save_widget', 'tooltip', 'actions', 'WidgetManager']\n"
     ]
    }
   ],
   "source": [
    "print('{}'.format(li_jupyter_module))"
   ]
  },
  {
   "cell_type": "markdown",
   "metadata": {},
   "source": [
    "### Available notebook actions"
   ]
  },
  {
   "cell_type": "code",
   "execution_count": 38,
   "metadata": {},
   "outputs": [
    {
     "name": "stdout",
     "output_type": "stream",
     "text": [
      "['jupyter-notebook:toggle-rtl-layout', 'jupyter-notebook:edit-command-mode-keyboard-shortcuts', 'jupyter-notebook:shutdown-kernel', 'jupyter-notebook:confirm-shutdown-kernel', 'jupyter-notebook:restart-kernel', 'jupyter-notebook:confirm-restart-kernel', 'jupyter-notebook:restart-kernel-and-run-all-cells', 'jupyter-notebook:confirm-restart-kernel-and-run-all-cells', 'jupyter-notebook:restart-kernel-and-clear-output', 'jupyter-notebook:confirm-restart-kernel-and-clear-output', 'jupyter-notebook:interrupt-kernel', 'jupyter-notebook:run-cell-and-select-next', 'jupyter-notebook:run-cell', 'jupyter-notebook:run-cell-and-insert-below', 'jupyter-notebook:run-all-cells', 'jupyter-notebook:run-all-cells-above', 'jupyter-notebook:run-all-cells-below', 'jupyter-notebook:enter-command-mode', 'jupyter-notebook:insert-image', 'jupyter-notebook:cut-cell-attachments', 'jupyter-notebook:copy-cell-attachments', 'jupyter-notebook:paste-cell-attachments', 'jupyter-notebook:split-cell-at-cursor', 'jupyter-notebook:enter-edit-mode', 'jupyter-notebook:select-previous-cell', 'jupyter-notebook:select-next-cell', 'jupyter-notebook:extend-selection-above', 'jupyter-notebook:extend-selection-below', 'jupyter-notebook:cut-cell', 'jupyter-notebook:copy-cell', 'jupyter-notebook:paste-cell-above', 'jupyter-notebook:paste-cell-below', 'jupyter-notebook:insert-cell-above', 'jupyter-notebook:insert-cell-below', 'jupyter-notebook:change-cell-to-code', 'jupyter-notebook:change-cell-to-markdown', 'jupyter-notebook:change-cell-to-raw', 'jupyter-notebook:change-cell-to-heading-1', 'jupyter-notebook:change-cell-to-heading-2', 'jupyter-notebook:change-cell-to-heading-3', 'jupyter-notebook:change-cell-to-heading-4', 'jupyter-notebook:change-cell-to-heading-5', 'jupyter-notebook:change-cell-to-heading-6', 'jupyter-notebook:toggle-cell-output-collapsed', 'jupyter-notebook:toggle-cell-output-scrolled', 'jupyter-notebook:clear-cell-output', 'jupyter-notebook:move-cell-down', 'jupyter-notebook:move-cell-up', 'jupyter-notebook:toggle-cell-line-numbers', 'jupyter-notebook:show-keyboard-shortcuts', 'jupyter-notebook:delete-cell', 'jupyter-notebook:undo-cell-deletion', 'jupyter-notebook:merge-cell-with-previous-cell', 'jupyter-notebook:merge-cell-with-next-cell', 'jupyter-notebook:merge-selected-cells', 'jupyter-notebook:merge-cells', 'jupyter-notebook:show-command-palette', 'jupyter-notebook:toggle-all-line-numbers', 'jupyter-notebook:show-all-line-numbers', 'jupyter-notebook:hide-all-line-numbers', 'jupyter-notebook:toggle-header', 'jupyter-notebook:show-header', 'jupyter-notebook:hide-header', 'jupyter-notebook:toggle-toolbar', 'jupyter-notebook:show-toolbar', 'jupyter-notebook:hide-toolbar', 'jupyter-notebook:close-pager', 'jupyter-notebook:ignore', 'jupyter-notebook:move-cursor-up', 'jupyter-notebook:move-cursor-down', 'jupyter-notebook:scroll-notebook-down', 'jupyter-notebook:scroll-notebook-up', 'jupyter-notebook:scroll-cell-center', 'jupyter-notebook:scroll-cell-top', 'jupyter-notebook:duplicate-notebook', 'jupyter-notebook:trust-notebook', 'jupyter-notebook:rename-notebook', 'jupyter-notebook:toggle-all-cells-output-collapsed', 'jupyter-notebook:toggle-all-cells-output-scrolled', 'jupyter-notebook:clear-all-cells-output', 'jupyter-notebook:save-notebook', 'jupyter-notebook:find-and-replace', 'auto:toggle-comment', 'auto:toggle-codefolding', 'widgets:save-widget-state', 'widgets:embed-interactive-widgets', 'widgets:save-with-snapshots']\n"
     ]
    }
   ],
   "source": [
    "li_notebook_action_main = [e for e in li_notebook_action if not e.startswith('auto:autogenerated-function')]\n",
    "print('{}'.format(li_notebook_action_main))"
   ]
  },
  {
   "cell_type": "markdown",
   "metadata": {},
   "source": [
    "### Find all available commands\n",
    "+ Explore require('base/js/namespace') in the js console\n",
    "+ Look for examples in https://github.com/ipython-contrib/jupyter_contrib_nbextensions"
   ]
  },
  {
   "cell_type": "code",
   "execution_count": null,
   "metadata": {
    "collapsed": true
   },
   "outputs": [],
   "source": []
  },
  {
   "cell_type": "markdown",
   "metadata": {},
   "source": [
    "# 5 - Jupyter server extensions\n",
    "\n",
    "The notebook webserver can be interacted with [this API](http://petstore.swagger.io/?url=https://raw.githubusercontent.com/jupyter/notebook/master/notebook/services/api/api.yaml).  \n",
    "You can define custom API handlers in addition to the ones provided by the notebook.  \n",
    "A notebook server extension registers a custom handler.  \n",
    "\n",
    "Jupyter server extensions are Python modules (as the notebook server is written in Python) with a special function:  \n",
    "`load_jupyter_server_extension`.  \n",
    "\n",
    "They must be installed and then enabled with a special procedure.  \n",
    "\n",
    "I don't know of any very useful server extension available at the moment.  \n",
    "\n",
    "Official doc is [here](http://jupyter-notebook.readthedocs.io/en/stable/extending/handlers.html).  "
   ]
  },
  {
   "cell_type": "markdown",
   "metadata": {},
   "source": [
    "## Demo server extension\n",
    "\n",
    "+ ``hello_world`` is a sample extension\n",
    "+ Only ``hello_world/__init___.py`` and ``setup.py`` are necessary\n",
    "+ The other files are machine generated"
   ]
  },
  {
   "cell_type": "code",
   "execution_count": 39,
   "metadata": {},
   "outputs": [
    {
     "name": "stdout",
     "output_type": "stream",
     "text": [
      "server_extensions/hello_world\r\n",
      "├── hello_world\r\n",
      "│   ├── __init__.py\r\n",
      "│   ├── __init__.pyc\r\n",
      "│   └── __pycache__\r\n",
      "│       └── __init__.cpython-36.pyc\r\n",
      "├── hello_world.egg-info\r\n",
      "│   ├── PKG-INFO\r\n",
      "│   ├── SOURCES.txt\r\n",
      "│   ├── dependency_links.txt\r\n",
      "│   ├── not-zip-safe\r\n",
      "│   └── top_level.txt\r\n",
      "└── setup.py\r\n",
      "\r\n",
      "3 directories, 9 files\r\n"
     ]
    }
   ],
   "source": [
    "! tree server_extensions/hello_world"
   ]
  },
  {
   "cell_type": "code",
   "execution_count": 40,
   "metadata": {
    "collapsed": true
   },
   "outputs": [],
   "source": [
    "# ! cat server_extensions/hello_world/hello_world/__init__.py"
   ]
  },
  {
   "cell_type": "code",
   "execution_count": 41,
   "metadata": {
    "collapsed": true
   },
   "outputs": [],
   "source": [
    "# ! cat server_extensions/hello_world/setup.py"
   ]
  },
  {
   "cell_type": "markdown",
   "metadata": {
    "ezpublish": {
     "type": "show"
    },
    "run_control": {
     "marked": false
    }
   },
   "source": [
    "## Install server extension\n",
    "+ server extensions must be installed with pip (or conda) in the kernel env.\n",
    "+ Using `pip install <ipython_extension_directory>`\n",
    "+ Or `pip install -e <ipython_extension_directory>` for a dev install (symlinks)\n"
   ]
  },
  {
   "cell_type": "code",
   "execution_count": 42,
   "metadata": {},
   "outputs": [
    {
     "name": "stdout",
     "output_type": "stream",
     "text": [
      "Processing ./server_extensions/hello_world\n",
      "Installing collected packages: hello-world\n",
      "  Found existing installation: hello-world 0.1\n",
      "    Uninstalling hello-world-0.1:\n",
      "      Successfully uninstalled hello-world-0.1\n",
      "  Running setup.py install for hello-world ... \u001b[?25ldone\n",
      "\u001b[?25hSuccessfully installed hello-world-0.1\n"
     ]
    }
   ],
   "source": [
    "# ! pip uninstall --yes hello_world\n",
    "! pip install --upgrade server_extensions/hello_world"
   ]
  },
  {
   "cell_type": "markdown",
   "metadata": {},
   "source": [
    "## Enable server extension\n",
    "### From Terminal\n",
    "+ This updates ~/.jupyter/jupyter_notebook_config.json  "
   ]
  },
  {
   "cell_type": "code",
   "execution_count": 43,
   "metadata": {},
   "outputs": [
    {
     "name": "stdout",
     "output_type": "stream",
     "text": [
      "Enabling: hello_world\n",
      "- Writing config: /Users/Olivier/.jupyter\n",
      "    - Validating...\n",
      "      hello_world  \u001b[32mOK\u001b[0m\n"
     ]
    }
   ],
   "source": [
    "! jupyter serverextension enable hello_world"
   ]
  },
  {
   "cell_type": "code",
   "execution_count": 44,
   "metadata": {},
   "outputs": [
    {
     "name": "stdout",
     "output_type": "stream",
     "text": [
      "config dir: /Users/Olivier/.jupyter\n",
      "    hello_world \u001b[32m enabled \u001b[0m\n",
      "    - Validating...\n",
      "      hello_world  \u001b[32mOK\u001b[0m\n"
     ]
    }
   ],
   "source": [
    "! jupyter serverextension list"
   ]
  },
  {
   "cell_type": "code",
   "execution_count": 45,
   "metadata": {},
   "outputs": [
    {
     "name": "stdout",
     "output_type": "stream",
     "text": [
      "{\r\n",
      "  \"NotebookApp\": {\r\n",
      "    \"nbserver_extensions\": {\r\n",
      "      \"hello_world\": true\r\n",
      "    }\r\n",
      "  }\r\n",
      "}"
     ]
    }
   ],
   "source": [
    "! cat ~/.jupyter/jupyter_notebook_config.json"
   ]
  },
  {
   "cell_type": "markdown",
   "metadata": {},
   "source": [
    "### From jupyter_notebook_config.py\n",
    "+ This file is run at notebook webserver startup\n",
    "+ `c.NotebookApp.nbserver_extensions` contains a dict of nbserver extensions to load.\n",
    "+ If you don't have such file you must create default config files.\n",
    "+ Example:\n",
    "\n",
    "````\n",
    "c = get_config()\n",
    "c.NotebookApp.nbserver_extensions = {\n",
    "    'mypackage.mymodule': True,\n",
    "    'hello_world': True,\n",
    "}\n",
    "````"
   ]
  },
  {
   "cell_type": "code",
   "execution_count": 47,
   "metadata": {},
   "outputs": [
    {
     "name": "stdout",
     "output_type": "stream",
     "text": [
      "Uncommented lines of ~/.jupyter/jupyter_notebook_config.py:\n",
      "\n",
      "c.NotebookApp.nbserver_extensions = {'hello_world': True}\n"
     ]
    }
   ],
   "source": [
    "home = os.path.expanduser('~')\n",
    "path = '.jupyter/jupyter_notebook_config.py'\n",
    "\n",
    "try:\n",
    "    with open(os.path.join(home, path)) as f:    \n",
    "        lines = f.read().split('\\n')\n",
    "        print('Uncommented lines of ~/.jupyter/jupyter_notebook_config.py:\\n')\n",
    "        for line in lines:\n",
    "            if not (line.startswith('#') or line is ''):\n",
    "                print(line)\n",
    "    \n",
    "except FileNotFoundError:\n",
    "    print('Run \"jupyter notebook --generate-config\" to create default config file')\n",
    "    print('\\t~/.jupyter/jupyter_notebook_config.py')\n",
    "    print('\\t~/.jupyter/jupyter_notebook_config.json')"
   ]
  },
  {
   "cell_type": "markdown",
   "metadata": {},
   "source": [
    "### Note: \n",
    "A server extension is launched at web server startup if it is enabled via:  \n",
    "+ ~/.jupyter/jupyter_notebook_config.json <span style=\"color:red\">**OR**</span>\n",
    "+ ~/.jupyter/jupyter_notebook_config.py"
   ]
  },
  {
   "cell_type": "markdown",
   "metadata": {},
   "source": [
    "### From Terminal - as a one-off\n",
    "+ Quite unwieldly"
   ]
  },
  {
   "cell_type": "code",
   "execution_count": 48,
   "metadata": {
    "collapsed": true
   },
   "outputs": [],
   "source": [
    "# ! jupyter notebook --NotebookApp.nbserver_extensions=\"{'hello_world':True}\"\n",
    "# ! jupyter notebook --NotebookApp.nbserver_extensions=\"{'mypackage.mymodule':True}\""
   ]
  },
  {
   "cell_type": "code",
   "execution_count": null,
   "metadata": {
    "collapsed": true
   },
   "outputs": [],
   "source": []
  }
 ],
 "metadata": {
  "hide_input": false,
  "kernelspec": {
   "display_name": "Python 3",
   "language": "python",
   "name": "python3"
  },
  "language_info": {
   "codemirror_mode": {
    "name": "ipython",
    "version": 3
   },
   "file_extension": ".py",
   "mimetype": "text/x-python",
   "name": "python",
   "nbconvert_exporter": "python",
   "pygments_lexer": "ipython3",
   "version": "3.6.0"
  }
 },
 "nbformat": 4,
 "nbformat_minor": 1
}
