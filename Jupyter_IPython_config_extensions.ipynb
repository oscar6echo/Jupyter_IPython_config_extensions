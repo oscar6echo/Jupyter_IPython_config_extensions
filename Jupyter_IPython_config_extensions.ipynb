{
 "cells": [
  {
   "cell_type": "markdown",
   "metadata": {},
   "source": [
    "# Jupyter / IPython configuration\n",
    "\n",
    "This is a combo of various commands and paths and recipes for (my) reference.  \n",
    "It is a work in progress and certainly not exhaustive.  \n",
    "\n",
    "Links:\n",
    "+ Official documentation: \n",
    "[Extending the notebook](https://jupyter-notebook.readthedocs.io/en/stable/extending/index.html), \n",
    "[Distributing Jupyter Extensions as Python Packages](https://jupyter-notebook.readthedocs.io/en/stable/examples/Notebook/rstversions/Distributing%20Jupyter%20Extensions%20as%20Python%20Packages.html)  \n",
    "+ Mindtrove's blog: [Four Ways to Extend Jupyter Notebook](http://mindtrove.info/4-ways-to-extend-jupyter-notebook/)\n",
    "\n",
    "It browses:\n",
    "+ Jupyter paths to config files and data files\n",
    "+ IPython configuration file: **.ipython_config.py**\n",
    "+ Jupyter configuration file: **.jupyter_notebook_config.py**\n",
    "+ Install an IPython extension\n",
    "+ Donwload, install and enable a notebook client extention - **nbextension**\n",
    "+ Install and enable a server extention - **serverextension**\n"
   ]
  },
  {
   "cell_type": "code",
   "execution_count": 4,
   "metadata": {
    "code_folding": [],
    "collapsed": false,
    "ezpublish": {
     "type": "show"
    },
    "hide_input": false,
    "run_control": {
     "marked": false
    },
    "scrolled": true
   },
   "outputs": [
    {
     "data": {
      "application/json": {
       "Software versions": [
        {
         "module": "Python",
         "version": "3.5.2 64bit [GCC 4.2.1 Compatible Apple LLVM 4.2 (clang-425.0.28)]"
        },
        {
         "module": "IPython",
         "version": "5.1.0"
        },
        {
         "module": "OS",
         "version": "Darwin 14.5.0 x86_64 i386 64bit"
        },
        {
         "module": "jupyter",
         "version": "The 'jupyter' distribution was not found and is required by the application"
        },
        {
         "module": "ipython",
         "version": "5.1.0"
        }
       ]
      },
      "text/html": [
       "<table><tr><th>Software</th><th>Version</th></tr><tr><td>Python</td><td>3.5.2 64bit [GCC 4.2.1 Compatible Apple LLVM 4.2 (clang-425.0.28)]</td></tr><tr><td>IPython</td><td>5.1.0</td></tr><tr><td>OS</td><td>Darwin 14.5.0 x86_64 i386 64bit</td></tr><tr><td>jupyter</td><td>The 'jupyter' distribution was not found and is required by the application</td></tr><tr><td>ipython</td><td>5.1.0</td></tr><tr><td colspan='2'>Sun Sep 18 22:03:42 2016 CEST</td></tr></table>"
      ],
      "text/latex": [
       "\\begin{tabular}{|l|l|}\\hline\n",
       "{\\bf Software} & {\\bf Version} \\\\ \\hline\\hline\n",
       "Python & 3.5.2 64bit [GCC 4.2.1 Compatible Apple LLVM 4.2 (clang-425.0.28)] \\\\ \\hline\n",
       "IPython & 5.1.0 \\\\ \\hline\n",
       "OS & Darwin 14.5.0 x86\\_64 i386 64bit \\\\ \\hline\n",
       "jupyter & The 'jupyter' distribution was not found and is required by the application \\\\ \\hline\n",
       "ipython & 5.1.0 \\\\ \\hline\n",
       "\\hline \\multicolumn{2}{|l|}{Sun Sep 18 22:03:42 2016 CEST} \\\\ \\hline\n",
       "\\end{tabular}\n"
      ],
      "text/plain": [
       "Software versions\n",
       "Python 3.5.2 64bit [GCC 4.2.1 Compatible Apple LLVM 4.2 (clang-425.0.28)]\n",
       "IPython 5.1.0\n",
       "OS Darwin 14.5.0 x86_64 i386 64bit\n",
       "jupyter The 'jupyter' distribution was not found and is required by the application\n",
       "ipython 5.1.0\n",
       "Sun Sep 18 22:03:42 2016 CEST"
      ]
     },
     "execution_count": 4,
     "metadata": {},
     "output_type": "execute_result"
    }
   ],
   "source": [
    "import warnings\n",
    "warnings.filterwarnings(\"ignore\", module=\"matplotlib\")\n",
    "\n",
    "import sys, os, glob\n",
    "import datetime as dt\n",
    "import pandas as pd\n",
    "import json\n",
    "import notebook as nb\n",
    "import requests as rq\n",
    "import jupyter_core\n",
    "\n",
    "from IPython.display import display, Javascript, HTML\n",
    "\n",
    "%version_information jupyter,ipython"
   ]
  },
  {
   "cell_type": "markdown",
   "metadata": {},
   "source": [
    "#### Covenient - Open main folders in text editor"
   ]
  },
  {
   "cell_type": "code",
   "execution_count": 16,
   "metadata": {
    "code_folding": [],
    "collapsed": true,
    "run_control": {
     "marked": false
    }
   },
   "outputs": [],
   "source": [
    "# ! subl /Users/Olivier/Dropbox/Archives/Software/Python/Jupyter \\\n",
    "#         /Users/Olivier/.jupyter \\\n",
    "#         /Users/Olivier/.ipython \\\n",
    "#         /Users/Olivier/Library/Jupyter \\\n",
    "#         /Users/Olivier/anaconda/share/jupyter\n",
    "        "
   ]
  },
  {
   "cell_type": "markdown",
   "metadata": {
    "ezpublish": {
     "type": "show"
    },
    "run_control": {
     "marked": false
    }
   },
   "source": [
    "## Jupyter version"
   ]
  },
  {
   "cell_type": "code",
   "execution_count": 5,
   "metadata": {
    "collapsed": false
   },
   "outputs": [
    {
     "name": "stdout",
     "output_type": "stream",
     "text": [
      "# packages in environment at /Users/Olivier/anaconda:\n",
      "#\n",
      "jupyter                   1.0.0                    py27_3  \n",
      "jupyter_client            4.4.0                    py27_0  \n",
      "jupyter_console           5.0.0                    py27_0  \n",
      "jupyter_core              4.2.0                    py27_0  \n",
      "# packages in environment at /Users/Olivier/anaconda:\n",
      "#\n",
      "ipython                   5.1.0                    py27_0  \n",
      "ipython-notebook          4.0.4                    py27_0  \n",
      "ipython-qtconsole         4.0.1                    py27_0  \n",
      "ipython_genutils          0.1.0                    py27_0  \n",
      "# packages in environment at /Users/Olivier/anaconda/envs/ipykernel_py3:\n",
      "#\n",
      "jupyter_client            4.4.0                    py35_0  \n",
      "jupyter_core              4.2.0                    py35_0  \n",
      "# packages in environment at /Users/Olivier/anaconda/envs/ipykernel_py3:\n",
      "#\n",
      "ipython                   5.1.0                    py35_0  \n",
      "ipython_genutils          0.1.0                    py35_0  \n",
      "4.2.0\n"
     ]
    }
   ],
   "source": [
    "%%bash\n",
    "conda list jupyter\n",
    "conda list ipython\n",
    "source activate ipykernel_py3\n",
    "conda list jupyter\n",
    "conda list ipython\n",
    "source deactivate\n",
    "jupyter --version"
   ]
  },
  {
   "cell_type": "code",
   "execution_count": 6,
   "metadata": {
    "collapsed": false,
    "run_control": {
     "marked": false
    },
    "scrolled": true
   },
   "outputs": [
    {
     "data": {
      "text/plain": [
       "(4, 2, 0)"
      ]
     },
     "execution_count": 6,
     "metadata": {},
     "output_type": "execute_result"
    }
   ],
   "source": [
    "jupyter_core.version_info"
   ]
  },
  {
   "cell_type": "markdown",
   "metadata": {
    "ezpublish": {
     "type": "show"
    },
    "run_control": {
     "marked": false
    }
   },
   "source": [
    "## Jupyter paths"
   ]
  },
  {
   "cell_type": "code",
   "execution_count": 7,
   "metadata": {
    "collapsed": false,
    "hide_input": false,
    "hide_output": false,
    "run_control": {
     "marked": false
    }
   },
   "outputs": [
    {
     "name": "stdout",
     "output_type": "stream",
     "text": [
      "config:\r\n",
      "    /Users/Olivier/.jupyter\r\n",
      "    /Users/Olivier/anaconda/etc/jupyter\r\n",
      "    /usr/local/etc/jupyter\r\n",
      "    /etc/jupyter\r\n",
      "data:\r\n",
      "    /Users/Olivier/Library/Jupyter\r\n",
      "    /Users/Olivier/anaconda/share/jupyter\r\n",
      "    /usr/local/share/jupyter\r\n",
      "    /usr/share/jupyter\r\n",
      "runtime:\r\n",
      "    /Users/Olivier/Library/Jupyter/runtime\r\n"
     ]
    }
   ],
   "source": [
    "! jupyter --paths\n",
    "# ! jupyter --paths --json"
   ]
  },
  {
   "cell_type": "code",
   "execution_count": 8,
   "metadata": {
    "collapsed": false,
    "run_control": {
     "marked": false
    }
   },
   "outputs": [
    {
     "name": "stdout",
     "output_type": "stream",
     "text": [
      "Jupyter config files in\n"
     ]
    },
    {
     "data": {
      "text/plain": [
       "['/Users/Olivier/.jupyter',\n",
       " '/Users/Olivier/anaconda/envs/ipykernel_py3/etc/jupyter',\n",
       " '/usr/local/etc/jupyter',\n",
       " '/etc/jupyter']"
      ]
     },
     "execution_count": 8,
     "metadata": {},
     "output_type": "execute_result"
    }
   ],
   "source": [
    "print('Jupyter config files in')\n",
    "jupyter_core.paths.jupyter_config_path()"
   ]
  },
  {
   "cell_type": "code",
   "execution_count": 9,
   "metadata": {
    "collapsed": false,
    "ezpublish": {
     "type": "show"
    },
    "run_control": {
     "marked": false
    }
   },
   "outputs": [
    {
     "name": "stdout",
     "output_type": "stream",
     "text": [
      "Jupyter user config files are in\n"
     ]
    },
    {
     "data": {
      "text/plain": [
       "'/Users/Olivier/.jupyter'"
      ]
     },
     "execution_count": 9,
     "metadata": {},
     "output_type": "execute_result"
    }
   ],
   "source": [
    "print('Jupyter user config files are in')\n",
    "jupyter_core.paths.jupyter_config_dir()"
   ]
  },
  {
   "cell_type": "code",
   "execution_count": 10,
   "metadata": {
    "collapsed": false,
    "run_control": {
     "marked": false
    }
   },
   "outputs": [
    {
     "name": "stdout",
     "output_type": "stream",
     "text": [
      "Jupyter user data files in\n"
     ]
    },
    {
     "data": {
      "text/plain": [
       "'/Users/Olivier/Library/Jupyter'"
      ]
     },
     "execution_count": 10,
     "metadata": {},
     "output_type": "execute_result"
    }
   ],
   "source": [
    "print('Jupyter user data files in')\n",
    "jupyter_core.paths.jupyter_data_dir()"
   ]
  },
  {
   "cell_type": "code",
   "execution_count": 11,
   "metadata": {
    "collapsed": false,
    "run_control": {
     "marked": false
    }
   },
   "outputs": [
    {
     "name": "stdout",
     "output_type": "stream",
     "text": [
      "Jupyter runtime files in\n"
     ]
    },
    {
     "data": {
      "text/plain": [
       "'/Users/Olivier/Library/Jupyter/runtime'"
      ]
     },
     "execution_count": 11,
     "metadata": {},
     "output_type": "execute_result"
    }
   ],
   "source": [
    "print('Jupyter runtime files in')\n",
    "jupyter_core.paths.jupyter_runtime_dir()"
   ]
  },
  {
   "cell_type": "code",
   "execution_count": 12,
   "metadata": {
    "collapsed": false,
    "run_control": {
     "marked": false
    }
   },
   "outputs": [
    {
     "name": "stdout",
     "output_type": "stream",
     "text": [
      "Jupyter nbextension files in\n"
     ]
    },
    {
     "data": {
      "text/plain": [
       "['/Users/Olivier/Library/Jupyter',\n",
       " '/Users/Olivier/anaconda/envs/ipykernel_py3/share/jupyter',\n",
       " '/usr/local/share/jupyter',\n",
       " '/usr/share/jupyter']"
      ]
     },
     "execution_count": 12,
     "metadata": {},
     "output_type": "execute_result"
    }
   ],
   "source": [
    "print('Jupyter nbextension files in')\n",
    "jupyter_core.paths.jupyter_path()"
   ]
  },
  {
   "cell_type": "code",
   "execution_count": 13,
   "metadata": {
    "collapsed": false,
    "run_control": {
     "marked": false
    }
   },
   "outputs": [
    {
     "name": "stdout",
     "output_type": "stream",
     "text": [
      "Jupyter customjs files in\n"
     ]
    },
    {
     "data": {
      "text/plain": [
       "'/Users/Olivier/.jupyter/custom/custom.js'"
      ]
     },
     "execution_count": 13,
     "metadata": {},
     "output_type": "execute_result"
    }
   ],
   "source": [
    "print('Jupyter customjs files in')\n",
    "custom_js_path = os.path.join(jupyter_core.paths.jupyter_config_dir(), 'custom', 'custom.js')\n",
    "custom_js_path"
   ]
  },
  {
   "cell_type": "code",
   "execution_count": 14,
   "metadata": {
    "collapsed": false,
    "run_control": {
     "marked": false
    }
   },
   "outputs": [],
   "source": [
    "if os.path.isfile(custom_js_path):\n",
    "    with open(custom_js_path) as f:\n",
    "#         print(f.read())\n",
    "        pass\n",
    "else:\n",
    "    print(\"You don't have a custom.js file\")"
   ]
  },
  {
   "cell_type": "code",
   "execution_count": 15,
   "metadata": {
    "collapsed": false
   },
   "outputs": [
    {
     "name": "stdout",
     "output_type": "stream",
     "text": [
      "Jupyter kernels\n",
      "Available kernels:\n",
      "  python2    /Users/Olivier/anaconda/lib/python2.7/site-packages/ipykernel/resources\n",
      "  python3    /Users/Olivier/Library/Jupyter/kernels/python3\n",
      "{\n",
      "  \"kernelspecs\": {\n",
      "    \"python3\": {\n",
      "      \"resource_dir\": \"/Users/Olivier/Library/Jupyter/kernels/python3\", \n",
      "      \"spec\": {\n",
      "        \"language\": \"python\", \n",
      "        \"display_name\": \"Python 3\", \n",
      "        \"env\": {}, \n",
      "        \"argv\": [\n",
      "          \"/Users/Olivier/anaconda/envs/ipykernel_py3/bin/python\", \n",
      "          \"-m\", \n",
      "          \"ipykernel\", \n",
      "          \"-f\", \n",
      "          \"{connection_file}\"\n",
      "        ]\n",
      "      }\n",
      "    }, \n",
      "    \"python2\": {\n",
      "      \"resource_dir\": \"/Users/Olivier/anaconda/lib/python2.7/site-packages/ipykernel/resources\", \n",
      "      \"spec\": {\n",
      "        \"language\": \"python\", \n",
      "        \"display_name\": \"Python 2\", \n",
      "        \"env\": {}, \n",
      "        \"argv\": [\n",
      "          \"/Users/Olivier/anaconda/bin/python\", \n",
      "          \"-m\", \n",
      "          \"ipykernel\", \n",
      "          \"-f\", \n",
      "          \"{connection_file}\"\n",
      "        ]\n",
      "      }\n",
      "    }\n",
      "  }\n",
      "}\n"
     ]
    }
   ],
   "source": [
    "print('Jupyter kernels')\n",
    "! jupyter kernelspec list\n",
    "! jupyter kernelspec list --json\n"
   ]
  },
  {
   "cell_type": "code",
   "execution_count": null,
   "metadata": {
    "collapsed": true
   },
   "outputs": [],
   "source": []
  },
  {
   "cell_type": "markdown",
   "metadata": {
    "ezpublish": {
     "type": "show"
    },
    "run_control": {
     "marked": false
    }
   },
   "source": [
    "## IPython configuration\n",
    "### .ipython_config.py file"
   ]
  },
  {
   "cell_type": "code",
   "execution_count": 17,
   "metadata": {
    "collapsed": false
   },
   "outputs": [
    {
     "name": "stdout",
     "output_type": "stream",
     "text": [
      "c.InteractiveShellApp.exec_lines contains Python lines executed\n",
      "c.InteractiveShellApp.extensions contains a list of ipython extensions to load\n",
      "\tipython extensions must be installed with pip (or conda) in the kernel env\n",
      "These actions are performed at startup.\n",
      "\n",
      "c.InteractiveShellApp.exec_lines = [\n",
      "    'import numpy as np',\n",
      "    'import pandas as pd'\n",
      "]\n",
      "c.InteractiveShellApp.extensions = [\n",
      "    'version_information',\n",
      "    'random_int',\n",
      "]\n"
     ]
    }
   ],
   "source": [
    "print('c.InteractiveShellApp.exec_lines contains Python lines executed')\n",
    "print ('c.InteractiveShellApp.extensions contains a list of ipython extensions to load')\n",
    "print ('\\tipython extensions must be installed with pip (or conda) in the kernel env')\n",
    "print('These actions are performed at startup.\\n')\n",
    "      \n",
    "home = os.path.expanduser('~')\n",
    "path = '.ipython/profile_default/ipython_config.py'\n",
    "\n",
    "with open(os.path.join(home, path)) as f:    \n",
    "    lines = f.read().split('\\n')\n",
    "    for line in lines:\n",
    "        if not (line.startswith('#') or line is ''):\n",
    "            print(line)\n"
   ]
  },
  {
   "cell_type": "markdown",
   "metadata": {
    "ezpublish": {
     "type": "show"
    },
    "run_control": {
     "marked": false
    }
   },
   "source": [
    "## Jupyter configuration\n",
    "### .jupyter_notebook_config.py"
   ]
  },
  {
   "cell_type": "code",
   "execution_count": 18,
   "metadata": {
    "collapsed": false
   },
   "outputs": [
    {
     "name": "stdout",
     "output_type": "stream",
     "text": [
      "c.NotebookApp.nbserver_extensions contains a dict of nbserver extensions to load\n",
      "These actions are performed at startup.\n",
      "\n",
      "c.NotebookApp.nbserver_extensions = {\n",
      "    'hello_world': True,\n",
      "}\n"
     ]
    }
   ],
   "source": [
    "print('c.NotebookApp.nbserver_extensions contains a dict of nbserver extensions to load')\n",
    "print('These actions are performed at startup.\\n')\n",
    "      \n",
    "home = os.path.expanduser('~')\n",
    "path = '.jupyter/jupyter_notebook_config.py'\n",
    "\n",
    "with open(os.path.join(home, path)) as f:    \n",
    "    lines = f.read().split('\\n')\n",
    "    for line in lines:\n",
    "        if not (line.startswith('#') or line is ''):\n",
    "            print(line)\n"
   ]
  },
  {
   "cell_type": "markdown",
   "metadata": {
    "ezpublish": {
     "type": "show"
    },
    "run_control": {
     "marked": false
    }
   },
   "source": [
    "## IPython extensions"
   ]
  },
  {
   "cell_type": "code",
   "execution_count": 19,
   "metadata": {
    "collapsed": false
   },
   "outputs": [
    {
     "data": {
      "application/json": {
       "cell": {
        "!": "OSMagics",
        "HTML": "Other",
        "SVG": "Other",
        "bash": "Other",
        "capture": "ExecutionMagics",
        "debug": "ExecutionMagics",
        "file": "Other",
        "html": "DisplayMagics",
        "javascript": "DisplayMagics",
        "js": "DisplayMagics",
        "latex": "DisplayMagics",
        "perl": "Other",
        "prun": "ExecutionMagics",
        "pypy": "Other",
        "python": "Other",
        "python2": "Other",
        "python3": "Other",
        "ruby": "Other",
        "script": "ScriptMagics",
        "sh": "Other",
        "svg": "DisplayMagics",
        "sx": "OSMagics",
        "system": "OSMagics",
        "time": "ExecutionMagics",
        "timeit": "ExecutionMagics",
        "writefile": "OSMagics"
       },
       "line": {
        "alias": "OSMagics",
        "alias_magic": "BasicMagics",
        "autocall": "AutoMagics",
        "automagic": "AutoMagics",
        "autosave": "KernelMagics",
        "bookmark": "OSMagics",
        "cat": "Other",
        "cd": "OSMagics",
        "clear": "KernelMagics",
        "colors": "BasicMagics",
        "config": "ConfigMagics",
        "connect_info": "KernelMagics",
        "cp": "Other",
        "debug": "ExecutionMagics",
        "dhist": "OSMagics",
        "dirs": "OSMagics",
        "doctest_mode": "BasicMagics",
        "ed": "Other",
        "edit": "KernelMagics",
        "env": "OSMagics",
        "gui": "BasicMagics",
        "hist": "Other",
        "history": "HistoryMagics",
        "killbgscripts": "ScriptMagics",
        "ldir": "Other",
        "less": "KernelMagics",
        "lf": "Other",
        "lk": "Other",
        "ll": "Other",
        "load": "CodeMagics",
        "load_ext": "ExtensionMagics",
        "loadpy": "CodeMagics",
        "logoff": "LoggingMagics",
        "logon": "LoggingMagics",
        "logstart": "LoggingMagics",
        "logstate": "LoggingMagics",
        "logstop": "LoggingMagics",
        "ls": "Other",
        "lsmagic": "BasicMagics",
        "lx": "Other",
        "macro": "ExecutionMagics",
        "magic": "BasicMagics",
        "man": "KernelMagics",
        "matplotlib": "PylabMagics",
        "mkdir": "Other",
        "more": "KernelMagics",
        "mv": "Other",
        "notebook": "BasicMagics",
        "page": "BasicMagics",
        "pastebin": "CodeMagics",
        "pdb": "ExecutionMagics",
        "pdef": "NamespaceMagics",
        "pdoc": "NamespaceMagics",
        "pfile": "NamespaceMagics",
        "pinfo": "NamespaceMagics",
        "pinfo2": "NamespaceMagics",
        "popd": "OSMagics",
        "pprint": "BasicMagics",
        "precision": "BasicMagics",
        "profile": "BasicMagics",
        "prun": "ExecutionMagics",
        "psearch": "NamespaceMagics",
        "psource": "NamespaceMagics",
        "pushd": "OSMagics",
        "pwd": "OSMagics",
        "pycat": "OSMagics",
        "pylab": "PylabMagics",
        "qtconsole": "KernelMagics",
        "quickref": "BasicMagics",
        "random_int": "RandomInt",
        "recall": "HistoryMagics",
        "rehashx": "OSMagics",
        "reload_ext": "ExtensionMagics",
        "rep": "Other",
        "rerun": "HistoryMagics",
        "reset": "NamespaceMagics",
        "reset_selective": "NamespaceMagics",
        "rm": "Other",
        "rmdir": "Other",
        "run": "ExecutionMagics",
        "save": "CodeMagics",
        "sc": "OSMagics",
        "set_env": "OSMagics",
        "store": "StoreMagics",
        "sx": "OSMagics",
        "system": "OSMagics",
        "tb": "ExecutionMagics",
        "time": "ExecutionMagics",
        "timeit": "ExecutionMagics",
        "unalias": "OSMagics",
        "unload_ext": "ExtensionMagics",
        "version_information": "VersionInformation",
        "who": "NamespaceMagics",
        "who_ls": "NamespaceMagics",
        "whos": "NamespaceMagics",
        "xdel": "NamespaceMagics",
        "xmode": "BasicMagics"
       }
      },
      "text/plain": [
       "Available line magics:\n",
       "%alias  %alias_magic  %autocall  %automagic  %autosave  %bookmark  %cat  %cd  %clear  %colors  %config  %connect_info  %cp  %debug  %dhist  %dirs  %doctest_mode  %ed  %edit  %env  %gui  %hist  %history  %killbgscripts  %ldir  %less  %lf  %lk  %ll  %load  %load_ext  %loadpy  %logoff  %logon  %logstart  %logstate  %logstop  %ls  %lsmagic  %lx  %macro  %magic  %man  %matplotlib  %mkdir  %more  %mv  %notebook  %page  %pastebin  %pdb  %pdef  %pdoc  %pfile  %pinfo  %pinfo2  %popd  %pprint  %precision  %profile  %prun  %psearch  %psource  %pushd  %pwd  %pycat  %pylab  %qtconsole  %quickref  %random_int  %recall  %rehashx  %reload_ext  %rep  %rerun  %reset  %reset_selective  %rm  %rmdir  %run  %save  %sc  %set_env  %store  %sx  %system  %tb  %time  %timeit  %unalias  %unload_ext  %version_information  %who  %who_ls  %whos  %xdel  %xmode\n",
       "\n",
       "Available cell magics:\n",
       "%%!  %%HTML  %%SVG  %%bash  %%capture  %%debug  %%file  %%html  %%javascript  %%js  %%latex  %%perl  %%prun  %%pypy  %%python  %%python2  %%python3  %%ruby  %%script  %%sh  %%svg  %%sx  %%system  %%time  %%timeit  %%writefile\n",
       "\n",
       "Automagic is ON, % prefix IS NOT needed for line magics."
      ]
     },
     "execution_count": 19,
     "metadata": {},
     "output_type": "execute_result"
    }
   ],
   "source": [
    "%lsmagic"
   ]
  },
  {
   "cell_type": "code",
   "execution_count": 20,
   "metadata": {
    "collapsed": false
   },
   "outputs": [
    {
     "data": {
      "text/html": [
       "<b>37967</b>"
      ],
      "text/plain": [
       "<random_int.RandomInt at 0x107505e10>"
      ]
     },
     "execution_count": 20,
     "metadata": {},
     "output_type": "execute_result"
    }
   ],
   "source": [
    "%random_int 88000"
   ]
  },
  {
   "cell_type": "markdown",
   "metadata": {
    "ezpublish": {
     "type": "show"
    },
    "run_control": {
     "marked": false
    }
   },
   "source": [
    "## Install ipython extensions\n",
    "+ Using ``pip install <ipython_extension_directory>``\n",
    "+ Or ``pip install -e <ipython_extension_directory>`` for a dev install (symlinks)\n",
    "+ From the chosen environement Python2/3"
   ]
  },
  {
   "cell_type": "markdown",
   "metadata": {},
   "source": [
    "### Python2 install"
   ]
  },
  {
   "cell_type": "code",
   "execution_count": 21,
   "metadata": {
    "collapsed": false
   },
   "outputs": [
    {
     "name": "stdout",
     "output_type": "stream",
     "text": [
      "Obtaining file:///Users/Olivier/Dropbox/Archives/Software/GitHub/Jupyter_IPython_config_extensions/ipython_extensions/random_int\n",
      "Installing collected packages: random-int\n",
      "  Running setup.py develop for random-int\n",
      "Successfully installed random-int-0.1\n"
     ]
    }
   ],
   "source": [
    "! pip install -e ipython_extensions/random_int"
   ]
  },
  {
   "cell_type": "markdown",
   "metadata": {},
   "source": [
    "### Python3 install\n",
    "(Soon I'll be doing the opposite: It is time to move to Python3)"
   ]
  },
  {
   "cell_type": "code",
   "execution_count": 22,
   "metadata": {
    "collapsed": false
   },
   "outputs": [
    {
     "name": "stdout",
     "output_type": "stream",
     "text": [
      "Obtaining file:///Users/Olivier/Dropbox/Archives/Software/GitHub/Jupyter_IPython_config_extensions/ipython_extensions/random_int\n",
      "Installing collected packages: random-int\n",
      "  Running setup.py develop for random-int\n",
      "Successfully installed random-int-0.1\n"
     ]
    }
   ],
   "source": [
    "%%bash\n",
    "source activate ipykernel_py3\n",
    "pip install -e ipython_extensions/random_int\n",
    "source deactivate"
   ]
  },
  {
   "cell_type": "markdown",
   "metadata": {},
   "source": [
    "### Minimal IPython extension\n",
    "\n",
    "+ ``random_int`` is a sample extension\n",
    "+ Only ``random_int/__init___.py`` and ``setup.py`` are necessary\n",
    "+ The other files are machine generated"
   ]
  },
  {
   "cell_type": "code",
   "execution_count": 23,
   "metadata": {
    "collapsed": false
   },
   "outputs": [
    {
     "name": "stdout",
     "output_type": "stream",
     "text": [
      "ipython_extensions/random_int/\r\n",
      "├── random_int\r\n",
      "│   ├── __init__.py\r\n",
      "│   ├── __init__.pyc\r\n",
      "│   └── __pycache__\r\n",
      "│       └── __init__.cpython-35.pyc\r\n",
      "├── random_int.egg-info\r\n",
      "│   ├── PKG-INFO\r\n",
      "│   ├── SOURCES.txt\r\n",
      "│   ├── dependency_links.txt\r\n",
      "│   ├── not-zip-safe\r\n",
      "│   └── top_level.txt\r\n",
      "└── setup.py\r\n",
      "\r\n",
      "3 directories, 9 files\r\n"
     ]
    }
   ],
   "source": [
    "! tree ipython_extensions/random_int/"
   ]
  },
  {
   "cell_type": "code",
   "execution_count": 24,
   "metadata": {
    "collapsed": false
   },
   "outputs": [],
   "source": [
    "# ! cat ipython_extensions/random_int/random_int/__init__.py\n",
    "# ! cat ipython_extensions/random_int/setup.py"
   ]
  },
  {
   "cell_type": "code",
   "execution_count": null,
   "metadata": {
    "collapsed": true
   },
   "outputs": [],
   "source": []
  },
  {
   "cell_type": "markdown",
   "metadata": {
    "ezpublish": {
     "type": "show"
    },
    "run_control": {
     "marked": false
    }
   },
   "source": [
    "## Notebook extensions\n",
    "+ nbextension"
   ]
  },
  {
   "cell_type": "code",
   "execution_count": 25,
   "metadata": {
    "collapsed": false,
    "run_control": {
     "marked": false
    }
   },
   "outputs": [
    {
     "name": "stdout",
     "output_type": "stream",
     "text": [
      "Known nbextensions:\r\n",
      "  config dir: /Users/Olivier/.jupyter/nbconfig\r\n",
      "    notebook section\r\n",
      "      ezpublish/main \u001b[31mdisabled\u001b[0m\r\n",
      "      qtconsole/qtconsole \u001b[31mdisabled\u001b[0m\r\n",
      "      chrome-clipboard/main \u001b[32m enabled \u001b[0m\r\n",
      "      - Validating: \u001b[32mOK\u001b[0m\r\n",
      "      default_style/main \u001b[32m enabled \u001b[0m\r\n",
      "      - Validating: \u001b[32mOK\u001b[0m\r\n",
      "      comment-uncomment/main \u001b[32m enabled \u001b[0m\r\n",
      "      - Validating: \u001b[32mOK\u001b[0m\r\n",
      "      codefolding/main \u001b[32m enabled \u001b[0m\r\n",
      "      - Validating: \u001b[32mOK\u001b[0m\r\n",
      "      autosave/main \u001b[31mdisabled\u001b[0m\r\n",
      "      limit_output/main \u001b[31mdisabled\u001b[0m\r\n",
      "      hide_input/main \u001b[32m enabled \u001b[0m\r\n",
      "      - Validating: \u001b[32mOK\u001b[0m\r\n",
      "      code_font_size/code_font_size \u001b[31mdisabled\u001b[0m\r\n",
      "      runtools/main \u001b[32m enabled \u001b[0m\r\n",
      "      - Validating: \u001b[32mOK\u001b[0m\r\n",
      "      hide_input_all/main \u001b[32m enabled \u001b[0m\r\n",
      "      - Validating: \u001b[32mOK\u001b[0m\r\n",
      "  config dir: /Users/Olivier/anaconda/etc/jupyter/nbconfig\r\n",
      "    notebook section\r\n",
      "      jupyter-leaflet/extension \u001b[32m enabled \u001b[0m\r\n",
      "      - Validating: \u001b[32mOK\u001b[0m\r\n",
      "      jupyter-js-widgets/extension \u001b[32m enabled \u001b[0m\r\n",
      "      - Validating: \u001b[32mOK\u001b[0m\r\n"
     ]
    }
   ],
   "source": [
    "! jupyter nbextension list"
   ]
  },
  {
   "cell_type": "code",
   "execution_count": 26,
   "metadata": {
    "collapsed": false,
    "run_control": {
     "marked": false
    }
   },
   "outputs": [
    {
     "name": "stdout",
     "output_type": "stream",
     "text": [
      "/Users/Olivier/.jupyter/nbconfig/notebook.json\n",
      "{\n",
      "  \"load_extensions\": {\n",
      "    \"autosave/main\": false,\n",
      "    \"runtools/main\": true,\n",
      "    \"chrome-clipboard/main\": true,\n",
      "    \"hide_input/main\": true,\n",
      "    \"qtconsole/qtconsole\": false,\n",
      "    \"code_font_size/code_font_size\": false,\n",
      "    \"comment-uncomment/main\": true,\n",
      "    \"limit_output/main\": false,\n",
      "    \"hide_input_all/main\": true,\n",
      "    \"default_style/main\": true,\n",
      "    \"codefolding/main\": true,\n",
      "    \"ezpublish/main\": false\n",
      "  }\n",
      "}\n",
      "/Users/Olivier/anaconda/envs/ipykernel_py3/etc/jupyter/nbconfig/notebook.json\n",
      "{\n",
      "  \"load_extensions\": {\n",
      "    \"jupyter-js-widgets/extension\": true,\n",
      "    \"jupyter-leaflet/extension\": true\n",
      "  }\n",
      "}\n"
     ]
    }
   ],
   "source": [
    "for d in jupyter_core.paths.jupyter_config_path():\n",
    "    for e in glob.glob(d+'/nbconfig/*'):\n",
    "        if e.endswith('notebook.json'):\n",
    "            print(e)\n",
    "            with open(e, 'r') as f:\n",
    "                print(f.read())\n",
    "    "
   ]
  },
  {
   "cell_type": "code",
   "execution_count": 27,
   "metadata": {
    "collapsed": false,
    "run_control": {
     "marked": false
    }
   },
   "outputs": [
    {
     "name": "stdout",
     "output_type": "stream",
     "text": [
      "/Users/Olivier/Library/Jupyter/nbextensions\n",
      "\t/Users/Olivier/Library/Jupyter/nbextensions/autosave\n",
      "\t\t/Users/Olivier/Library/Jupyter/nbextensions/autosave/main.js\n",
      "\t/Users/Olivier/Library/Jupyter/nbextensions/chrome-clipboard\n",
      "\t\t/Users/Olivier/Library/Jupyter/nbextensions/chrome-clipboard/main.js\n",
      "\t/Users/Olivier/Library/Jupyter/nbextensions/code_font_size\n",
      "\t\t/Users/Olivier/Library/Jupyter/nbextensions/code_font_size/code_font_size.js\n",
      "\t/Users/Olivier/Library/Jupyter/nbextensions/codefolding\n",
      "\t\t/Users/Olivier/Library/Jupyter/nbextensions/codefolding/firstline-fold.js\n",
      "\t\t/Users/Olivier/Library/Jupyter/nbextensions/codefolding/foldgutter.css\n",
      "\t\t/Users/Olivier/Library/Jupyter/nbextensions/codefolding/magic-fold.js\n",
      "\t\t/Users/Olivier/Library/Jupyter/nbextensions/codefolding/main.js\n",
      "\t/Users/Olivier/Library/Jupyter/nbextensions/comment-uncomment\n",
      "\t\t/Users/Olivier/Library/Jupyter/nbextensions/comment-uncomment/main.js\n",
      "\t/Users/Olivier/Library/Jupyter/nbextensions/default_style\n",
      "\t\t/Users/Olivier/Library/Jupyter/nbextensions/default_style/main.js\n",
      "\t\t/Users/Olivier/Library/Jupyter/nbextensions/default_style/my_default.css\n",
      "\t/Users/Olivier/Library/Jupyter/nbextensions/ezpublish\n",
      "\t\t/Users/Olivier/Library/Jupyter/nbextensions/ezpublish/main.js\n",
      "\t/Users/Olivier/Library/Jupyter/nbextensions/hide_input\n",
      "\t\t/Users/Olivier/Library/Jupyter/nbextensions/hide_input/main.js\n",
      "\t/Users/Olivier/Library/Jupyter/nbextensions/hide_input_all\n",
      "\t\t/Users/Olivier/Library/Jupyter/nbextensions/hide_input_all/main.js\n",
      "\t/Users/Olivier/Library/Jupyter/nbextensions/init_cell\n",
      "\t\t/Users/Olivier/Library/Jupyter/nbextensions/init_cell/main.js\n",
      "\t/Users/Olivier/Library/Jupyter/nbextensions/limit_output\n",
      "\t\t/Users/Olivier/Library/Jupyter/nbextensions/limit_output/main.js\n",
      "\t/Users/Olivier/Library/Jupyter/nbextensions/qtconsole\n",
      "\t\t/Users/Olivier/Library/Jupyter/nbextensions/qtconsole/qtconsole.js\n",
      "\t/Users/Olivier/Library/Jupyter/nbextensions/runtools\n",
      "\t\t/Users/Olivier/Library/Jupyter/nbextensions/runtools/dummy.js\n",
      "\t\t/Users/Olivier/Library/Jupyter/nbextensions/runtools/gutter.css\n",
      "\t\t/Users/Olivier/Library/Jupyter/nbextensions/runtools/main.css\n",
      "\t\t/Users/Olivier/Library/Jupyter/nbextensions/runtools/main.js\n",
      "/Users/Olivier/anaconda/envs/ipykernel_py3/share/jupyter/nbextensions\n",
      "\t/Users/Olivier/anaconda/envs/ipykernel_py3/share/jupyter/nbextensions/jupyter-js-widgets\n",
      "\t/Users/Olivier/anaconda/envs/ipykernel_py3/share/jupyter/nbextensions/jupyter-leaflet\n",
      "/usr/local/share/jupyter/nbextensions\n"
     ]
    }
   ],
   "source": [
    "for k, d in enumerate(jupyter_core.paths.jupyter_path()):\n",
    "    li_dir = glob.glob(d+'/*')\n",
    "    for d in li_dir:\n",
    "        if 'nbextension' in d:\n",
    "            print(d)\n",
    "            for e in glob.glob(d+'/*'):\n",
    "                print('\\t'+e)\n",
    "                if k == 0:\n",
    "                    for f in glob.glob(e+'/*'):\n",
    "                        print('\\t\\t'+f)\n"
   ]
  },
  {
   "cell_type": "markdown",
   "metadata": {
    "ezpublish": {
     "type": "show"
    },
    "run_control": {
     "marked": false
    }
   },
   "source": [
    "## Install notebook extension"
   ]
  },
  {
   "cell_type": "markdown",
   "metadata": {
    "ezpublish": {
     "type": "show"
    },
    "run_control": {
     "marked": false
    }
   },
   "source": [
    "### Download selection from https://github.com/ipython-contrib/jupyter_contrib_nbextensions"
   ]
  },
  {
   "cell_type": "markdown",
   "metadata": {
    "run_control": {
     "marked": false
    }
   },
   "source": [
    "#### GitHub API status"
   ]
  },
  {
   "cell_type": "code",
   "execution_count": 28,
   "metadata": {
    "collapsed": false
   },
   "outputs": [
    {
     "data": {
      "text/html": [
       "<div>\n",
       "<table border=\"1\" class=\"dataframe\">\n",
       "  <thead>\n",
       "    <tr style=\"text-align: right;\">\n",
       "      <th></th>\n",
       "      <th>value</th>\n",
       "    </tr>\n",
       "  </thead>\n",
       "  <tbody>\n",
       "    <tr>\n",
       "      <th>core.limit</th>\n",
       "      <td>60</td>\n",
       "    </tr>\n",
       "    <tr>\n",
       "      <th>core.remaining</th>\n",
       "      <td>60</td>\n",
       "    </tr>\n",
       "    <tr>\n",
       "      <th>core.reset</th>\n",
       "      <td>2016-09-18 23:03:52</td>\n",
       "    </tr>\n",
       "    <tr>\n",
       "      <th>search.limit</th>\n",
       "      <td>10</td>\n",
       "    </tr>\n",
       "    <tr>\n",
       "      <th>search.remaining</th>\n",
       "      <td>10</td>\n",
       "    </tr>\n",
       "    <tr>\n",
       "      <th>search.reset</th>\n",
       "      <td>2016-09-18 22:04:52</td>\n",
       "    </tr>\n",
       "  </tbody>\n",
       "</table>\n",
       "</div>"
      ],
      "text/plain": [
       "                                value\n",
       "core.limit                         60\n",
       "core.remaining                     60\n",
       "core.reset        2016-09-18 23:03:52\n",
       "search.limit                       10\n",
       "search.remaining                   10\n",
       "search.reset      2016-09-18 22:04:52"
      ]
     },
     "execution_count": 28,
     "metadata": {},
     "output_type": "execute_result"
    }
   ],
   "source": [
    "gh_json = rq.get('https://api.github.com/rate_limit').json()\n",
    "df = pd.io.json.json_normalize(gh_json['resources'])\n",
    "df.index = ['value']\n",
    "fmt = lambda x: dt.datetime.fromtimestamp(x).strftime('%Y-%m-%d %H:%M:%S')\n",
    "df['core.reset'] = fmt(df['core.reset'])\n",
    "df['search.reset'] = fmt(df['search.reset'])\n",
    "df.T\n"
   ]
  },
  {
   "cell_type": "code",
   "execution_count": 29,
   "metadata": {
    "collapsed": true,
    "run_control": {
     "marked": false
    }
   },
   "outputs": [],
   "source": [
    "def download_ext(ext_name):\n",
    "    print(ext_name)\n",
    "    prefix = 'https://api.github.com/repos/ipython-contrib/jupyter_contrib_nbextensions/contents/' + \\\n",
    "             'src/jupyter_contrib_nbextensions/nbextensions/'\n",
    "    res = rq.get(prefix + ext_name)\n",
    "    content = json.loads(res.content)\n",
    "\n",
    "    if not os.path.exists('nbextensions'):\n",
    "        os.makedirs('nbextensions')\n",
    "    \n",
    "    li_name_url = [(e['name'], e['url']) for e in content if (e['name'].endswith('.js') or e['name'].endswith('.css'))]\n",
    "    print('\\t{}'.format([e[0] for e in li_name_url]))\n",
    "        \n",
    "    for filename, url in li_name_url:\n",
    "\n",
    "        res = rq.get(url)\n",
    "        content = json.loads(res.content)\n",
    "        ext_code = base64.b64decode(content['content'])\n",
    "        \n",
    "        if not os.path.exists(os.path.join('nbextensions', ext_name)):\n",
    "            os.makedirs(os.path.join('nbextensions', ext_name))\n",
    "            \n",
    "        path = os.path.join('nbextensions', ext_name, filename)\n",
    "        with open(path, 'w') as f:\n",
    "            f.write(ext_code)\n",
    "    \n",
    "\n",
    "li_remote_ext_name = ['chrome-clipboard', 'comment-uncomment', 'codefolding',\n",
    "                      'code_font_size', 'hide_input', 'hide_input_all',\n",
    "                      'init_cell', 'limit_output', 'qtconsole', 'runtools']"
   ]
  },
  {
   "cell_type": "code",
   "execution_count": 30,
   "metadata": {
    "collapsed": false,
    "run_control": {
     "marked": false
    },
    "scrolled": false
   },
   "outputs": [],
   "source": [
    "for ext_name in li_remote_ext_name[:]:\n",
    "    pass\n",
    "#     download_ext(ext_name)"
   ]
  },
  {
   "cell_type": "markdown",
   "metadata": {
    "ezpublish": {
     "type": "show"
    },
    "run_control": {
     "marked": false
    }
   },
   "source": [
    "### Install"
   ]
  },
  {
   "cell_type": "code",
   "execution_count": 31,
   "metadata": {
    "collapsed": false,
    "run_control": {
     "marked": false
    }
   },
   "outputs": [],
   "source": [
    "li_ext_name = li_remote_ext_name + ['autosave', 'default_style', 'ezpublish']\n",
    "\n",
    "for d in li_ext_name:\n",
    "    nb.install_nbextension(os.path.join('nb_extensions', d), user=True, overwrite=True)\n"
   ]
  },
  {
   "cell_type": "markdown",
   "metadata": {
    "ezpublish": {
     "type": "show"
    },
    "run_control": {
     "marked": false
    }
   },
   "source": [
    "### Check install"
   ]
  },
  {
   "cell_type": "code",
   "execution_count": 32,
   "metadata": {
    "collapsed": false,
    "run_control": {
     "marked": false
    },
    "scrolled": true
   },
   "outputs": [
    {
     "data": {
      "text/html": [
       "<div>\n",
       "<table border=\"1\" class=\"dataframe\">\n",
       "  <thead>\n",
       "    <tr style=\"text-align: right;\">\n",
       "      <th></th>\n",
       "      <th>name</th>\n",
       "      <th>installed</th>\n",
       "    </tr>\n",
       "  </thead>\n",
       "  <tbody>\n",
       "    <tr>\n",
       "      <th>0</th>\n",
       "      <td>chrome-clipboard</td>\n",
       "      <td>True</td>\n",
       "    </tr>\n",
       "    <tr>\n",
       "      <th>1</th>\n",
       "      <td>comment-uncomment</td>\n",
       "      <td>True</td>\n",
       "    </tr>\n",
       "    <tr>\n",
       "      <th>2</th>\n",
       "      <td>codefolding</td>\n",
       "      <td>True</td>\n",
       "    </tr>\n",
       "    <tr>\n",
       "      <th>3</th>\n",
       "      <td>code_font_size</td>\n",
       "      <td>True</td>\n",
       "    </tr>\n",
       "    <tr>\n",
       "      <th>4</th>\n",
       "      <td>hide_input</td>\n",
       "      <td>True</td>\n",
       "    </tr>\n",
       "    <tr>\n",
       "      <th>5</th>\n",
       "      <td>hide_input_all</td>\n",
       "      <td>True</td>\n",
       "    </tr>\n",
       "    <tr>\n",
       "      <th>6</th>\n",
       "      <td>init_cell</td>\n",
       "      <td>True</td>\n",
       "    </tr>\n",
       "    <tr>\n",
       "      <th>7</th>\n",
       "      <td>limit_output</td>\n",
       "      <td>True</td>\n",
       "    </tr>\n",
       "    <tr>\n",
       "      <th>8</th>\n",
       "      <td>qtconsole</td>\n",
       "      <td>True</td>\n",
       "    </tr>\n",
       "    <tr>\n",
       "      <th>9</th>\n",
       "      <td>runtools</td>\n",
       "      <td>True</td>\n",
       "    </tr>\n",
       "    <tr>\n",
       "      <th>10</th>\n",
       "      <td>autosave</td>\n",
       "      <td>True</td>\n",
       "    </tr>\n",
       "    <tr>\n",
       "      <th>11</th>\n",
       "      <td>default_style</td>\n",
       "      <td>True</td>\n",
       "    </tr>\n",
       "    <tr>\n",
       "      <th>12</th>\n",
       "      <td>ezpublish</td>\n",
       "      <td>True</td>\n",
       "    </tr>\n",
       "  </tbody>\n",
       "</table>\n",
       "</div>"
      ],
      "text/plain": [
       "                 name installed\n",
       "0    chrome-clipboard      True\n",
       "1   comment-uncomment      True\n",
       "2         codefolding      True\n",
       "3      code_font_size      True\n",
       "4          hide_input      True\n",
       "5      hide_input_all      True\n",
       "6           init_cell      True\n",
       "7        limit_output      True\n",
       "8           qtconsole      True\n",
       "9            runtools      True\n",
       "10           autosave      True\n",
       "11      default_style      True\n",
       "12          ezpublish      True"
      ]
     },
     "execution_count": 32,
     "metadata": {},
     "output_type": "execute_result"
    }
   ],
   "source": [
    "li_ext = [[ext_name, nb.nbextensions.check_nbextension('autosave', user=True)]\n",
    "              for ext_name in li_ext_name]\n",
    "df_ext = pd.DataFrame(li_ext, columns=['name', 'installed'])\n",
    "df_ext"
   ]
  },
  {
   "cell_type": "markdown",
   "metadata": {},
   "source": [
    "### Sample notebook extension\n",
    "+ Many more complex extensions are available at https://github.com/ipython-contrib/jupyter_contrib_nbextensions  \n",
    "\n",
    "+ At this stage I don't know where to find an exhaustive list of all accessibles js modules & events"
   ]
  },
  {
   "cell_type": "code",
   "execution_count": 33,
   "metadata": {
    "collapsed": false
   },
   "outputs": [
    {
     "name": "stdout",
     "output_type": "stream",
     "text": [
      "\r\n",
      "// you can define several modules\r\n",
      "define([\r\n",
      "    'base/js/namespace',\r\n",
      "    'base/js/events',\r\n",
      "    'base/js/utils',\r\n",
      "    'services/config',\r\n",
      "    'require',\r\n",
      "    'jquery',\r\n",
      "    'notebook/js/codecell',\r\n",
      "], function(Jupyter, events, utils, require, $, codecell){\r\n",
      "    \"use strict\";\r\n",
      "\r\n",
      "    // start custom code\r\n",
      "    var _onload = function () {\r\n",
      "        var select_type =  function(div, cell) {\r\n",
      "            // first param reference to a DOM div\r\n",
      "            // second param reference to the cell.\r\n",
      "            var positions = ['show', 'hide', 'toggle show', 'toggle hide'];\r\n",
      "            cell.metadata.ezpublish = {'type': positions[0]};\r\n",
      "            var button_container = $(div);\r\n",
      "            var button = $('<button/>')\r\n",
      "                            .addClass('btn btn-warning btn-xs')\r\n",
      "                            .text(cell.metadata.ezpublish.type);\r\n",
      "\r\n",
      "            button.click(function(){\r\n",
      "                        var v = cell.metadata.ezpublish.type;\r\n",
      "                        var i = positions.indexOf(v);\r\n",
      "                        cell.metadata.ezpublish.type = positions[(i+1)%positions.length];\r\n",
      "                        button.text(cell.metadata.ezpublish.type);\r\n",
      "            });\r\n",
      "            button_container.append(button);\r\n",
      "        }\r\n",
      "        var cellToobar = Jupyter.CellToolbar\r\n",
      "        cellToobar.register_callback('ezpublish.type', select_type);\r\n",
      "        cellToobar.register_preset('ezpublish',['ezpublish.type']);\r\n",
      "    }\r\n",
      "    // end custom code\r\n",
      "\r\n",
      "    // necessary return {load_ipython_extension: <function>}\r\n",
      "    return {load_ipython_extension: _onload};\r\n",
      "});\r\n",
      "\r\n"
     ]
    }
   ],
   "source": [
    "! cat nb_extensions/ezpublish/main.js"
   ]
  },
  {
   "cell_type": "code",
   "execution_count": null,
   "metadata": {
    "collapsed": true
   },
   "outputs": [],
   "source": []
  },
  {
   "cell_type": "markdown",
   "metadata": {
    "ezpublish": {
     "type": "show"
    },
    "run_control": {
     "marked": false
    }
   },
   "source": [
    "## Enable notebook extension"
   ]
  },
  {
   "cell_type": "markdown",
   "metadata": {
    "ezpublish": {
     "type": "show"
    },
    "run_control": {
     "marked": false
    }
   },
   "source": [
    "### From the notebook"
   ]
  },
  {
   "cell_type": "code",
   "execution_count": 34,
   "metadata": {
    "collapsed": false
   },
   "outputs": [
    {
     "data": {
      "text/plain": [
       "{'load_extensions': {'autosave/main': False,\n",
       "  'chrome-clipboard/main': True,\n",
       "  'code_font_size/code_font_size': False,\n",
       "  'codefolding/main': True,\n",
       "  'comment-uncomment/main': True,\n",
       "  'default_style/main': True,\n",
       "  'ezpublish/main': False,\n",
       "  'hide_input/main': True,\n",
       "  'hide_input_all/main': True,\n",
       "  'limit_output/main': False,\n",
       "  'qtconsole/qtconsole': False,\n",
       "  'runtools/main': True}}"
      ]
     },
     "execution_count": 34,
     "metadata": {},
     "output_type": "execute_result"
    }
   ],
   "source": [
    "# update file ~/.jupyter/nbconfig/notebook.json\n",
    "# True will add line (if not present) and set value to True\n",
    "# False will add line (if not present) and set value to False\n",
    "# None will remove line\n",
    "\n",
    "from notebook.services.config import ConfigManager\n",
    "cm = ConfigManager()\n",
    "cm.update('notebook', {'load_extensions': {'codefolding/main': True}})\n",
    "# cm.update('notebook', {'load_extensions': {'codefolding/main': False}})\n",
    "# cm.update('notebook', {'load_extensions': {'codefolding/main': None}})"
   ]
  },
  {
   "cell_type": "markdown",
   "metadata": {
    "ezpublish": {
     "type": "show"
    },
    "run_control": {
     "marked": false
    }
   },
   "source": [
    "### From the terminal"
   ]
  },
  {
   "cell_type": "code",
   "execution_count": 35,
   "metadata": {
    "collapsed": false,
    "run_control": {
     "marked": false
    }
   },
   "outputs": [],
   "source": [
    "# ! jupyter nbextension enable qtconsole/qtconsole\n",
    "# ! jupyter nbextension disable qtconsole/qtconsole\n",
    "\n",
    "# this will update the notebook.json file\n",
    "# then reload (Cmd+R) the notebook to see the effect"
   ]
  },
  {
   "cell_type": "markdown",
   "metadata": {
    "ezpublish": {
     "type": "show"
    },
    "run_control": {
     "marked": false
    }
   },
   "source": [
    "### From javascript"
   ]
  },
  {
   "cell_type": "code",
   "execution_count": 36,
   "metadata": {
    "collapsed": false,
    "ezpublish": {
     "type": "show"
    },
    "run_control": {
     "marked": false
    }
   },
   "outputs": [],
   "source": [
    "# ext_name = 'ezpublish/main'\n",
    "ext_name = ''\n",
    "\n",
    "js = \"\"\"\n",
    "console.log('loading nbextension {}');\n",
    "var utils = require('base/js/utils');\n",
    "utils.load_extensions('{}');\n",
    "\"\"\".format(ext_name, ext_name)\n",
    "\n",
    "# Javascript(js)\n",
    "\n",
    "# immediate effect\n",
    "# clear cell output and reload page to remove extension"
   ]
  },
  {
   "cell_type": "markdown",
   "metadata": {
    "ezpublish": {
     "type": "show"
    },
    "run_control": {
     "marked": false
    }
   },
   "source": [
    "### Check status"
   ]
  },
  {
   "cell_type": "code",
   "execution_count": 37,
   "metadata": {
    "collapsed": false,
    "run_control": {
     "marked": false
    },
    "scrolled": false
   },
   "outputs": [
    {
     "name": "stdout",
     "output_type": "stream",
     "text": [
      "Known nbextensions:\r\n",
      "  config dir: /Users/Olivier/.jupyter/nbconfig\r\n",
      "    notebook section\r\n",
      "      ezpublish/main \u001b[31mdisabled\u001b[0m\r\n",
      "      qtconsole/qtconsole \u001b[31mdisabled\u001b[0m\r\n",
      "      chrome-clipboard/main \u001b[32m enabled \u001b[0m\r\n",
      "      - Validating: \u001b[32mOK\u001b[0m\r\n",
      "      limit_output/main \u001b[31mdisabled\u001b[0m\r\n",
      "      comment-uncomment/main \u001b[32m enabled \u001b[0m\r\n",
      "      - Validating: \u001b[32mOK\u001b[0m\r\n",
      "      codefolding/main \u001b[32m enabled \u001b[0m\r\n",
      "      - Validating: \u001b[32mOK\u001b[0m\r\n",
      "      autosave/main \u001b[31mdisabled\u001b[0m\r\n",
      "      default_style/main \u001b[32m enabled \u001b[0m\r\n",
      "      - Validating: \u001b[32mOK\u001b[0m\r\n",
      "      hide_input/main \u001b[32m enabled \u001b[0m\r\n",
      "      - Validating: \u001b[32mOK\u001b[0m\r\n",
      "      code_font_size/code_font_size \u001b[31mdisabled\u001b[0m\r\n",
      "      runtools/main \u001b[32m enabled \u001b[0m\r\n",
      "      - Validating: \u001b[32mOK\u001b[0m\r\n",
      "      hide_input_all/main \u001b[32m enabled \u001b[0m\r\n",
      "      - Validating: \u001b[32mOK\u001b[0m\r\n",
      "  config dir: /Users/Olivier/anaconda/etc/jupyter/nbconfig\r\n",
      "    notebook section\r\n",
      "      jupyter-leaflet/extension \u001b[32m enabled \u001b[0m\r\n",
      "      - Validating: \u001b[32mOK\u001b[0m\r\n",
      "      jupyter-js-widgets/extension \u001b[32m enabled \u001b[0m\r\n",
      "      - Validating: \u001b[32mOK\u001b[0m\r\n"
     ]
    }
   ],
   "source": [
    "! jupyter nbextension list"
   ]
  },
  {
   "cell_type": "markdown",
   "metadata": {
    "ezpublish": {
     "type": "show"
    },
    "run_control": {
     "marked": false
    }
   },
   "source": [
    "## Server extensions\n",
    "+ serverextension"
   ]
  },
  {
   "cell_type": "code",
   "execution_count": 38,
   "metadata": {
    "collapsed": false,
    "run_control": {
     "marked": false
    },
    "scrolled": false
   },
   "outputs": [
    {
     "name": "stdout",
     "output_type": "stream",
     "text": [
      "config dir: /Users/Olivier/.jupyter\n",
      "    hello_world \u001b[32m enabled \u001b[0m\n",
      "    - Validating...\n",
      "      hello_world  \u001b[32mOK\u001b[0m\n"
     ]
    }
   ],
   "source": [
    "! jupyter serverextension list"
   ]
  },
  {
   "cell_type": "markdown",
   "metadata": {
    "ezpublish": {
     "type": "show"
    },
    "run_control": {
     "marked": false
    }
   },
   "source": [
    "## Install server extensions\n",
    "+ Using ``pip install <server_extension_directory>``\n",
    "+ Or ``pip install -e <server_extension_directory>`` for a dev install (symlinks)\n",
    "+ From the chosen environement Python2/3"
   ]
  },
  {
   "cell_type": "markdown",
   "metadata": {},
   "source": [
    "### Python2 install"
   ]
  },
  {
   "cell_type": "code",
   "execution_count": 39,
   "metadata": {
    "collapsed": false
   },
   "outputs": [
    {
     "name": "stdout",
     "output_type": "stream",
     "text": [
      "Obtaining file:///Users/Olivier/Dropbox/Archives/Software/GitHub/Jupyter_IPython_config_extensions/server_extensions/hello_world\n",
      "Installing collected packages: hello-world\n",
      "  Running setup.py develop for hello-world\n",
      "Successfully installed hello-world-0.1\n"
     ]
    }
   ],
   "source": [
    "! pip install -e server_extensions/hello_world"
   ]
  },
  {
   "cell_type": "markdown",
   "metadata": {},
   "source": [
    "### Python3 install\n",
    "(Soon I'll be doing the opposite: It is time to move to Python3)"
   ]
  },
  {
   "cell_type": "code",
   "execution_count": 40,
   "metadata": {
    "collapsed": false
   },
   "outputs": [
    {
     "name": "stdout",
     "output_type": "stream",
     "text": [
      "Obtaining file:///Users/Olivier/Dropbox/Archives/Software/GitHub/Jupyter_IPython_config_extensions/server_extensions/hello_world\n",
      "Installing collected packages: hello-world\n",
      "  Running setup.py develop for hello-world\n",
      "Successfully installed hello-world-0.1\n"
     ]
    }
   ],
   "source": [
    "%%bash\n",
    "source activate ipykernel_py3\n",
    "pip install -e server_extensions/hello_world\n",
    "source deactivate"
   ]
  },
  {
   "cell_type": "markdown",
   "metadata": {},
   "source": [
    "### Minimal server extension\n",
    "\n",
    "+ ``random_int`` is a sample extension\n",
    "+ Only ``random_int/__init___.py`` and ``setup.py`` are necessary\n",
    "+ The other files are machine generated"
   ]
  },
  {
   "cell_type": "code",
   "execution_count": 41,
   "metadata": {
    "collapsed": false
   },
   "outputs": [
    {
     "name": "stdout",
     "output_type": "stream",
     "text": [
      "server_extensions/hello_world\r\n",
      "├── hello_world\r\n",
      "│   ├── __init__.py\r\n",
      "│   └── __init__.pyc\r\n",
      "├── hello_world.egg-info\r\n",
      "│   ├── PKG-INFO\r\n",
      "│   ├── SOURCES.txt\r\n",
      "│   ├── dependency_links.txt\r\n",
      "│   ├── not-zip-safe\r\n",
      "│   └── top_level.txt\r\n",
      "└── setup.py\r\n",
      "\r\n",
      "2 directories, 8 files\r\n"
     ]
    }
   ],
   "source": [
    "! tree server_extensions/hello_world"
   ]
  },
  {
   "cell_type": "markdown",
   "metadata": {},
   "source": [
    "+ At this stage I don't know what to do from this hello_world server extension - still looking for a real life use case"
   ]
  },
  {
   "cell_type": "code",
   "execution_count": 42,
   "metadata": {
    "collapsed": false
   },
   "outputs": [],
   "source": [
    "# ! cat server_extensions/hello_world/hello_world/__init__.py\n",
    "# ! cat server_extensions/hello_world/setup.py"
   ]
  },
  {
   "cell_type": "code",
   "execution_count": null,
   "metadata": {
    "collapsed": true
   },
   "outputs": [],
   "source": []
  }
 ],
 "metadata": {
  "hide_input": false,
  "kernelspec": {
   "display_name": "Python 3",
   "language": "python",
   "name": "python3"
  },
  "language_info": {
   "codemirror_mode": {
    "name": "ipython",
    "version": 3
   },
   "file_extension": ".py",
   "mimetype": "text/x-python",
   "name": "python",
   "nbconvert_exporter": "python",
   "pygments_lexer": "ipython3",
   "version": "3.5.2"
  }
 },
 "nbformat": 4,
 "nbformat_minor": 0
}
